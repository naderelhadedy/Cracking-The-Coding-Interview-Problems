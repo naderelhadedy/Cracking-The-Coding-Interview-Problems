{
  "nbformat": 4,
  "nbformat_minor": 0,
  "metadata": {
    "colab": {
      "name": "algo_practice.ipynb",
      "provenance": [],
      "collapsed_sections": []
    },
    "kernelspec": {
      "name": "python3",
      "display_name": "Python 3"
    },
    "language_info": {
      "name": "python"
    }
  },
  "cells": [
    {
      "cell_type": "markdown",
      "source": [
        "# **Hash Tables**"
      ],
      "metadata": {
        "id": "n6bnXsdzx4jU"
      }
    },
    {
      "cell_type": "markdown",
      "source": [
        "# Example"
      ],
      "metadata": {
        "id": "ul9XFbVkz2-a"
      }
    },
    {
      "cell_type": "code",
      "source": [
        "# Python program to demonstrate working of HashTable \n",
        "\n",
        "hashTable = [[],] * 10"
      ],
      "metadata": {
        "id": "FWEdUrdJlTMp"
      },
      "execution_count": null,
      "outputs": []
    },
    {
      "cell_type": "code",
      "execution_count": null,
      "metadata": {
        "id": "FOXX_itvlMfz"
      },
      "outputs": [],
      "source": [
        "def checkPrime(n):\n",
        "    if n == 1 or n == 0:\n",
        "        return 0\n",
        "\n",
        "    for i in range(2, n//2):\n",
        "        if n % i == 0:\n",
        "            return 0\n",
        "\n",
        "    return 1\n",
        "\n",
        "\n",
        "def getPrime(n):\n",
        "    if n % 2 == 0:\n",
        "        n = n + 1\n",
        "\n",
        "    while not checkPrime(n):\n",
        "        n += 2\n",
        "\n",
        "    return n\n",
        "\n",
        "\n",
        "def hashFunction(key):\n",
        "    capacity = getPrime(10)\n",
        "    return key % capacity\n",
        "\n",
        "\n",
        "def insertData(key, data):\n",
        "    index = hashFunction(key)\n",
        "    hashTable[index] = [key, data]\n",
        "\n",
        "def removeData(key):\n",
        "    index = hashFunction(key)\n",
        "    hashTable[index] = 0\n",
        "\n"
      ]
    },
    {
      "cell_type": "code",
      "source": [
        "insertData(123, \"apple\")\n",
        "insertData(432, \"mango\")\n",
        "insertData(213, \"banana\")\n",
        "insertData(654, \"guava\")"
      ],
      "metadata": {
        "id": "BvMK8dQ2m4gM"
      },
      "execution_count": null,
      "outputs": []
    },
    {
      "cell_type": "code",
      "source": [
        "print(hashTable)"
      ],
      "metadata": {
        "colab": {
          "base_uri": "https://localhost:8080/"
        },
        "id": "8jubfVLjm6ff",
        "outputId": "3238de77-1138-4296-f013-6b2e80475c93"
      },
      "execution_count": null,
      "outputs": [
        {
          "output_type": "stream",
          "name": "stdout",
          "text": [
            "[[], [], [123, 'apple'], [432, 'mango'], [213, 'banana'], [654, 'guava'], [], [], [], []]\n"
          ]
        }
      ]
    },
    {
      "cell_type": "code",
      "source": [
        "removeData(123)\n",
        "\n",
        "print(hashTable)"
      ],
      "metadata": {
        "colab": {
          "base_uri": "https://localhost:8080/"
        },
        "id": "JtJWjq63m9ZV",
        "outputId": "8c0b2002-6bf6-4276-8945-d4a968436840"
      },
      "execution_count": null,
      "outputs": [
        {
          "output_type": "stream",
          "name": "stdout",
          "text": [
            "[[], [], 0, [432, 'mango'], [213, 'banana'], [654, 'guava'], [], [], [], []]\n"
          ]
        }
      ]
    },
    {
      "cell_type": "markdown",
      "source": [
        "---"
      ],
      "metadata": {
        "id": "ZQq2vfWJ0Pjz"
      }
    },
    {
      "cell_type": "markdown",
      "source": [
        "# **Arrays and Strings**"
      ],
      "metadata": {
        "id": "BkURgBb2zo2B"
      }
    },
    {
      "cell_type": "markdown",
      "source": [
        "# IsUnique"
      ],
      "metadata": {
        "id": "uhTB9sZk0Qt8"
      }
    },
    {
      "cell_type": "code",
      "source": [
        "def is_unique(theStr: str = ''):\n",
        "  for i in range(1, len(theStr)):\n",
        "    if theStr[i] in theStr[0:i-1]:\n",
        "      return False\n",
        "  return True"
      ],
      "metadata": {
        "id": "4dwNjhQvnC6F"
      },
      "execution_count": null,
      "outputs": []
    },
    {
      "cell_type": "code",
      "source": [
        "is_unique()"
      ],
      "metadata": {
        "colab": {
          "base_uri": "https://localhost:8080/"
        },
        "id": "GIW_ThTQ1VTC",
        "outputId": "8b5a84ab-f2b8-4d74-e6df-a35d8cab5686"
      },
      "execution_count": null,
      "outputs": [
        {
          "output_type": "execute_result",
          "data": {
            "text/plain": [
              "True"
            ]
          },
          "metadata": {},
          "execution_count": 7
        }
      ]
    },
    {
      "cell_type": "code",
      "source": [
        "is_unique('abc')"
      ],
      "metadata": {
        "colab": {
          "base_uri": "https://localhost:8080/"
        },
        "id": "Fq7Ijp8x2uLx",
        "outputId": "2f3035c2-4fcf-416f-84a3-3d6163766483"
      },
      "execution_count": null,
      "outputs": [
        {
          "output_type": "execute_result",
          "data": {
            "text/plain": [
              "True"
            ]
          },
          "metadata": {},
          "execution_count": 8
        }
      ]
    },
    {
      "cell_type": "code",
      "source": [
        "is_unique('abca')"
      ],
      "metadata": {
        "colab": {
          "base_uri": "https://localhost:8080/"
        },
        "id": "C4JCGqF72wlb",
        "outputId": "ef3b9a8b-be3b-431e-c98e-8adfa3493424"
      },
      "execution_count": null,
      "outputs": [
        {
          "output_type": "execute_result",
          "data": {
            "text/plain": [
              "False"
            ]
          },
          "metadata": {},
          "execution_count": 9
        }
      ]
    },
    {
      "cell_type": "code",
      "source": [
        "# ord('a') # returns the unique unicode for the character"
      ],
      "metadata": {
        "id": "NAEUIb3X4TNL"
      },
      "execution_count": null,
      "outputs": []
    },
    {
      "cell_type": "markdown",
      "source": [
        "# CheckPermutation"
      ],
      "metadata": {
        "id": "xuW43xoN2-UI"
      }
    },
    {
      "cell_type": "code",
      "source": [
        "from collections import Counter\n",
        "\n",
        "\n",
        "def check_permutation(str1, str2):\n",
        "    if len(str1) != len(str2):\n",
        "        return False\n",
        "    counter = Counter()\n",
        "    for c in str1:\n",
        "        counter[c] += 1\n",
        "    for c in str2:\n",
        "        if counter[c] == 0:\n",
        "            return False\n",
        "        counter[c] -= 1\n",
        "    return True"
      ],
      "metadata": {
        "id": "2i5MBxD16kv5"
      },
      "execution_count": null,
      "outputs": []
    },
    {
      "cell_type": "code",
      "source": [
        "check_permutation('abc', 'bca')"
      ],
      "metadata": {
        "id": "3E5_7Xva9pgS",
        "colab": {
          "base_uri": "https://localhost:8080/"
        },
        "outputId": "7828f191-9218-4a6f-a225-94816a3da840"
      },
      "execution_count": null,
      "outputs": [
        {
          "output_type": "execute_result",
          "data": {
            "text/plain": [
              "True"
            ]
          },
          "metadata": {},
          "execution_count": 23
        }
      ]
    },
    {
      "cell_type": "code",
      "source": [
        "check_permutation('abca', 'cbca')"
      ],
      "metadata": {
        "id": "lNtW76F_94qv",
        "colab": {
          "base_uri": "https://localhost:8080/"
        },
        "outputId": "14f60173-6e01-4cb4-c518-31d9f1e9b6c1"
      },
      "execution_count": null,
      "outputs": [
        {
          "output_type": "execute_result",
          "data": {
            "text/plain": [
              "False"
            ]
          },
          "metadata": {},
          "execution_count": 24
        }
      ]
    },
    {
      "cell_type": "markdown",
      "source": [
        "# URLify"
      ],
      "metadata": {
        "id": "GMUWl0dpIK5t"
      }
    },
    {
      "cell_type": "code",
      "source": [
        "def urlify(theStr:str, length:int):\n",
        "  res = theStr[:length]\n",
        "  for i in range(len(res)):\n",
        "    if res[i] == ' ':\n",
        "      res = res[0:i]+'%20'+res[i+1:]\n",
        "  return res"
      ],
      "metadata": {
        "id": "XFgtfVbg9yYa"
      },
      "execution_count": null,
      "outputs": []
    },
    {
      "cell_type": "code",
      "source": [
        "urlify(\"Mr John Smith \", 13)"
      ],
      "metadata": {
        "colab": {
          "base_uri": "https://localhost:8080/",
          "height": 35
        },
        "id": "0oTZDJvkKP1Y",
        "outputId": "cc449d09-5f59-4a59-f8ef-8d5e66b853fe"
      },
      "execution_count": null,
      "outputs": [
        {
          "output_type": "execute_result",
          "data": {
            "text/plain": [
              "'Mr%20John%20Smith'"
            ],
            "application/vnd.google.colaboratory.intrinsic+json": {
              "type": "string"
            }
          },
          "metadata": {},
          "execution_count": 39
        }
      ]
    },
    {
      "cell_type": "code",
      "source": [
        "# def URLify(string, length):\n",
        "#     '''function replaces single spaces with %20 and removes trailing spaces'''\n",
        "#     new_index = len(string)\n",
        "#     string = [i for i in string]\n",
        "#     print(string)\n",
        "#     print()\n",
        "\n",
        "#     for i in reversed(range(length)):\n",
        "#         if string[i] == ' ':\n",
        "#             # Replace spaces\n",
        "#             string[new_index - 3:new_index] = '%20'\n",
        "#             print(f'True: {string}')\n",
        "#             new_index -= 3\n",
        "#         else:\n",
        "#             # Move characters\n",
        "#             string[new_index - 1] = string[i]\n",
        "#             print(f'False: {string}')\n",
        "#             new_index -= 1\n",
        "\n",
        "#     print()\n",
        "#     res = ''\n",
        "#     for i in string:\n",
        "#       res += i\n",
        "#     return res\n",
        "    \n",
        "#     # return ''.join(string)"
      ],
      "metadata": {
        "id": "1kwsseq7KW30"
      },
      "execution_count": null,
      "outputs": []
    },
    {
      "cell_type": "code",
      "source": [
        "# URLify(\"Mr John Smith \", 13)"
      ],
      "metadata": {
        "id": "hg-ZghwgNLq_"
      },
      "execution_count": null,
      "outputs": []
    },
    {
      "cell_type": "markdown",
      "source": [
        "# Permutation of Palindrome"
      ],
      "metadata": {
        "id": "i8P3lTNfi9yX"
      }
    },
    {
      "cell_type": "code",
      "source": [
        "def ispermutation(string: str):\n",
        "  codes = [0 for _ in range(256)]\n",
        "  lower_str = string.lower()\n",
        "  for char in lower_str:\n",
        "    codes[ord(char)] += 1\n",
        "\n",
        "  codes[ord(' ')] = 0\n",
        "  count = 0\n",
        "  for val in codes:\n",
        "    if val % 2:\n",
        "      count += 1\n",
        "      if count > 1:\n",
        "        return False\n",
        "  return True"
      ],
      "metadata": {
        "id": "cIi6nhTDia-m"
      },
      "execution_count": null,
      "outputs": []
    },
    {
      "cell_type": "code",
      "source": [
        "ispermutation('Able was I ere I saw Elba')"
      ],
      "metadata": {
        "colab": {
          "base_uri": "https://localhost:8080/"
        },
        "id": "hURrL0S7c7g5",
        "outputId": "123ecc9f-6d64-476e-fd96-cd5977bb2d7c"
      },
      "execution_count": null,
      "outputs": [
        {
          "output_type": "execute_result",
          "data": {
            "text/plain": [
              "True"
            ]
          },
          "metadata": {},
          "execution_count": 48
        }
      ]
    },
    {
      "cell_type": "code",
      "source": [
        "ispermutation('Tact Coa')"
      ],
      "metadata": {
        "colab": {
          "base_uri": "https://localhost:8080/"
        },
        "id": "BU5TSJ-KAoXV",
        "outputId": "6e848ada-08ae-401c-c8ea-001fa3b0e89e"
      },
      "execution_count": null,
      "outputs": [
        {
          "output_type": "execute_result",
          "data": {
            "text/plain": [
              "True"
            ]
          },
          "metadata": {},
          "execution_count": 49
        }
      ]
    },
    {
      "cell_type": "markdown",
      "source": [
        "# OneAway"
      ],
      "metadata": {
        "id": "_heWzSidji_J"
      }
    },
    {
      "cell_type": "code",
      "source": [
        "def one_away(string1: str, string2: str):\n",
        "  codes1 = [0 for _ in range(256)]\n",
        "  codes2 = [0 for _ in range(256)]\n",
        "  if abs(len(string1) - len(string2)) > 1:\n",
        "    return False\n",
        "  for char in string1:\n",
        "    codes1[ord(char)] += 1\n",
        "  for char in string2:\n",
        "    codes2[ord(char)] += 1\n",
        "  diff = [abs(codes1[i] - codes2[i]) for i in range(256)]\n",
        "  if sum(diff) > 2:\n",
        "    return False\n",
        "  return True"
      ],
      "metadata": {
        "id": "BROD0MeffJJk"
      },
      "execution_count": null,
      "outputs": []
    },
    {
      "cell_type": "code",
      "source": [
        "one_away('pale', 'bake')"
      ],
      "metadata": {
        "colab": {
          "base_uri": "https://localhost:8080/"
        },
        "id": "GqclQvZBgnzA",
        "outputId": "68d1fc0e-6c86-446f-efcf-74eb89ad4b28"
      },
      "execution_count": null,
      "outputs": [
        {
          "output_type": "execute_result",
          "data": {
            "text/plain": [
              "False"
            ]
          },
          "metadata": {},
          "execution_count": 53
        }
      ]
    },
    {
      "cell_type": "markdown",
      "source": [
        "---"
      ],
      "metadata": {
        "id": "CdTlNdSo5Acs"
      }
    },
    {
      "cell_type": "code",
      "source": [
        "# !pip install python-datastructures"
      ],
      "metadata": {
        "id": "yKzDzilGgr5f"
      },
      "execution_count": null,
      "outputs": []
    },
    {
      "cell_type": "code",
      "source": [
        "# import python_datastructures as dsa\n",
        "\n",
        "# linked = dsa.SinglyLinkedList()\n",
        "\n",
        "# linked.add(5)\n",
        "# linked.add(6)\n",
        "# linked.add(7)\n",
        "\n",
        "# print(linked)\n",
        "# print(linked.getHead())"
      ],
      "metadata": {
        "id": "poAzkOGW5Blt",
        "colab": {
          "base_uri": "https://localhost:8080/"
        },
        "outputId": "2b8ab5c6-9a5f-49b2-a49b-7db9ef5fd40f"
      },
      "execution_count": null,
      "outputs": [
        {
          "output_type": "stream",
          "name": "stdout",
          "text": [
            "[7, 6, 5]\n",
            "7\n"
          ]
        }
      ]
    },
    {
      "cell_type": "markdown",
      "source": [
        "---"
      ],
      "metadata": {
        "id": "kF9A8kejh6rK"
      }
    },
    {
      "cell_type": "markdown",
      "source": [
        "# **Linked List**"
      ],
      "metadata": {
        "id": "yK5rPxa_Hyzt"
      }
    },
    {
      "cell_type": "markdown",
      "source": [
        "# Remove Dups, Return Kth to Last, Delete Middle Node"
      ],
      "metadata": {
        "id": "eYZsJu3RiAXb"
      }
    },
    {
      "cell_type": "code",
      "source": [
        "class LinkedList:\n",
        "  def __init__(self):\n",
        "    self.head = None\n",
        "\n",
        "  def insertAtEnd(self, item):\n",
        "    new_node = Node(item)\n",
        "    last = self.head\n",
        "    while (last.next):\n",
        "      last = last.next\n",
        "    last.next = new_node\n",
        "\n",
        "  def print_linkedList(self):\n",
        "    temp = self.head\n",
        "    while temp:\n",
        "      print(str(temp.item), end=' ')\n",
        "      temp = temp.next\n",
        "\n",
        "  def remove_dups(self):\n",
        "    current = self.head\n",
        "    while current:\n",
        "      runner = current\n",
        "      while runner.next:\n",
        "        if current.item == runner.next.item:\n",
        "          runner.next = runner.next.next\n",
        "        else:\n",
        "          runner = runner.next\n",
        "      current = current.next\n",
        "\n",
        "  def kth_to_last(self, k):\n",
        "    current = runner = self.head\n",
        "    for i in range(k):\n",
        "      if runner is None:\n",
        "        return\n",
        "      runner = runner.next\n",
        "    while runner:\n",
        "      current = current.next\n",
        "      runner = runner.next\n",
        "    return current.item\n",
        "\n",
        "  def remove_middle(self):\n",
        "    current = runner = self.head\n",
        "    while runner.next:\n",
        "      if runner.next.next:\n",
        "        temp = current\n",
        "        current = current.next\n",
        "        runner = runner.next.next\n",
        "      else:\n",
        "        break\n",
        "    temp.next = temp.next.next\n",
        "\n",
        "class Node:\n",
        "  def __init__(self, item):\n",
        "    self.item = item\n",
        "    self.next = None"
      ],
      "metadata": {
        "id": "aF087Dxf5-vb"
      },
      "execution_count": null,
      "outputs": []
    },
    {
      "cell_type": "code",
      "source": [
        "lst = [1, 2, 3, 2, 5, 5, 7]"
      ],
      "metadata": {
        "id": "bwTTpxZ4jZq7"
      },
      "execution_count": null,
      "outputs": []
    },
    {
      "cell_type": "code",
      "source": [
        "linked_list = LinkedList()\n",
        "linked_list.head = Node(lst[0])"
      ],
      "metadata": {
        "id": "VWRk5NUc6Ihf"
      },
      "execution_count": null,
      "outputs": []
    },
    {
      "cell_type": "code",
      "source": [
        "for i in lst[1:]:\n",
        "  linked_list.insertAtEnd(i)"
      ],
      "metadata": {
        "id": "iEiKgb6bnmx5"
      },
      "execution_count": null,
      "outputs": []
    },
    {
      "cell_type": "code",
      "source": [
        "linked_list.print_linkedList()"
      ],
      "metadata": {
        "colab": {
          "base_uri": "https://localhost:8080/"
        },
        "id": "aDCUnkH8jF4k",
        "outputId": "1015af8c-042b-4804-a68d-981da6dfd749"
      },
      "execution_count": null,
      "outputs": [
        {
          "output_type": "stream",
          "name": "stdout",
          "text": [
            "1 2 3 2 5 5 7 "
          ]
        }
      ]
    },
    {
      "cell_type": "code",
      "source": [
        "linked_list.remove_dups()"
      ],
      "metadata": {
        "id": "8TIgTbQgseKE"
      },
      "execution_count": null,
      "outputs": []
    },
    {
      "cell_type": "code",
      "source": [
        "linked_list.print_linkedList()"
      ],
      "metadata": {
        "colab": {
          "base_uri": "https://localhost:8080/"
        },
        "id": "C6adkKF0l-JQ",
        "outputId": "c74b2b56-a310-4357-fea9-db57ded76820"
      },
      "execution_count": null,
      "outputs": [
        {
          "output_type": "stream",
          "name": "stdout",
          "text": [
            "1 2 3 5 7 "
          ]
        }
      ]
    },
    {
      "cell_type": "code",
      "source": [
        "linked_list.kth_to_last(5)"
      ],
      "metadata": {
        "colab": {
          "base_uri": "https://localhost:8080/"
        },
        "id": "8FoJtpiro2Va",
        "outputId": "265579cf-d73c-4f4f-c2fe-f8cbb3e82715"
      },
      "execution_count": null,
      "outputs": [
        {
          "output_type": "execute_result",
          "data": {
            "text/plain": [
              "1"
            ]
          },
          "metadata": {},
          "execution_count": 8
        }
      ]
    },
    {
      "cell_type": "code",
      "source": [
        "linked_list.remove_middle()"
      ],
      "metadata": {
        "id": "_iWIomRD6Er8"
      },
      "execution_count": null,
      "outputs": []
    },
    {
      "cell_type": "code",
      "source": [
        "linked_list.print_linkedList()"
      ],
      "metadata": {
        "colab": {
          "base_uri": "https://localhost:8080/"
        },
        "id": "TZMwmWmtKdMI",
        "outputId": "2a2e32f7-1923-4ee5-c100-9c58fc36e0e5"
      },
      "execution_count": null,
      "outputs": [
        {
          "output_type": "stream",
          "name": "stdout",
          "text": [
            "1 2 5 7 "
          ]
        }
      ]
    },
    {
      "cell_type": "markdown",
      "source": [
        "# Cycled LinkedList"
      ],
      "metadata": {
        "id": "B48EoxCpRGpI"
      }
    },
    {
      "cell_type": "code",
      "source": [
        "# def hasCycle(self, head: Optional[ListNode]) -> bool:\n",
        "#     current = runner = head\n",
        "#     if current is None:\n",
        "#         return False\n",
        "#     while runner.next and runner.next.next:\n",
        "#         current = current.next\n",
        "#         runner = runner.next.next\n",
        "#         if runner == current:\n",
        "#             return True\n",
        "#     return False"
      ],
      "metadata": {
        "id": "_X0GYPR7qP1c"
      },
      "execution_count": null,
      "outputs": []
    },
    {
      "cell_type": "markdown",
      "source": [
        "---"
      ],
      "metadata": {
        "id": "eAnvCxjwRKfr"
      }
    },
    {
      "cell_type": "markdown",
      "source": [
        "# **Stacks and Queues**"
      ],
      "metadata": {
        "id": "JMOZQ30y4_-L"
      }
    },
    {
      "cell_type": "markdown",
      "source": [
        "# Min Stack"
      ],
      "metadata": {
        "id": "q7-53CtxRL8n"
      }
    },
    {
      "cell_type": "code",
      "source": [
        "class MinStack:\n",
        "\n",
        "    def __init__(self):\n",
        "        self.stack = []\n",
        "        self.stack_min = []\n",
        "\n",
        "    def push(self, val: int) -> None:\n",
        "        self.stack.append(val)\n",
        "        if len(self.stack_min) == 0 or val <= self.stack_min[-1]:\n",
        "            self.stack_min.append(val)\n",
        "\n",
        "    def pop(self) -> None:\n",
        "        if len(self.stack) == 0:\n",
        "            return\n",
        "        if self.stack[-1] == self.stack_min[-1]:\n",
        "            self.stack_min.pop()\n",
        "        self.stack.pop()\n",
        "\n",
        "    def top(self) -> int:\n",
        "        if len(self.stack) == 0:\n",
        "            return\n",
        "        return self.stack[-1]\n",
        "\n",
        "    def getMin(self) -> int:\n",
        "        if len(self.stack) == 0:\n",
        "            return\n",
        "        return self.stack_min[-1]\n",
        "\n",
        "    def display(self):\n",
        "        return self.stack"
      ],
      "metadata": {
        "id": "45_cDuiaRgVn"
      },
      "execution_count": null,
      "outputs": []
    },
    {
      "cell_type": "code",
      "source": [
        "stack = MinStack()"
      ],
      "metadata": {
        "id": "xtRbCJrTssKZ"
      },
      "execution_count": null,
      "outputs": []
    },
    {
      "cell_type": "code",
      "source": [
        "stack.display()"
      ],
      "metadata": {
        "colab": {
          "base_uri": "https://localhost:8080/"
        },
        "id": "SoiBYDuItDnx",
        "outputId": "8b42ea30-c021-417b-829a-7c186b421ee1"
      },
      "execution_count": null,
      "outputs": [
        {
          "output_type": "execute_result",
          "data": {
            "text/plain": [
              "[]"
            ]
          },
          "metadata": {},
          "execution_count": 3
        }
      ]
    },
    {
      "cell_type": "code",
      "source": [
        "stack.push(5)\n",
        "stack.push(4)\n",
        "stack.push(1)\n",
        "stack.push(3)\n",
        "stack.push(2)"
      ],
      "metadata": {
        "id": "5avQXKiftFpt"
      },
      "execution_count": null,
      "outputs": []
    },
    {
      "cell_type": "code",
      "source": [
        "stack.display()"
      ],
      "metadata": {
        "colab": {
          "base_uri": "https://localhost:8080/"
        },
        "id": "H66IOF4TtLM6",
        "outputId": "3e8da3a1-8cce-4f6c-b472-9aacc76f4775"
      },
      "execution_count": null,
      "outputs": [
        {
          "output_type": "execute_result",
          "data": {
            "text/plain": [
              "[5, 4, 1, 3, 2]"
            ]
          },
          "metadata": {},
          "execution_count": 5
        }
      ]
    },
    {
      "cell_type": "code",
      "source": [
        "stack.stack_min"
      ],
      "metadata": {
        "colab": {
          "base_uri": "https://localhost:8080/"
        },
        "id": "vyo_IGjwtwSb",
        "outputId": "d9c9c7da-3af3-468d-b72f-685e4d35fd0b"
      },
      "execution_count": null,
      "outputs": [
        {
          "output_type": "execute_result",
          "data": {
            "text/plain": [
              "[5, 4, 1]"
            ]
          },
          "metadata": {},
          "execution_count": 6
        }
      ]
    },
    {
      "cell_type": "code",
      "source": [
        "stack.getMin()"
      ],
      "metadata": {
        "colab": {
          "base_uri": "https://localhost:8080/"
        },
        "id": "EaeurlFqtOU9",
        "outputId": "6cb4130f-0e7e-4276-a5ca-c156dc0076a3"
      },
      "execution_count": null,
      "outputs": [
        {
          "output_type": "execute_result",
          "data": {
            "text/plain": [
              "1"
            ]
          },
          "metadata": {},
          "execution_count": 7
        }
      ]
    },
    {
      "cell_type": "code",
      "source": [
        "stack.pop()"
      ],
      "metadata": {
        "id": "2oOHaNkPvS_I"
      },
      "execution_count": null,
      "outputs": []
    },
    {
      "cell_type": "code",
      "source": [
        "stack.display()"
      ],
      "metadata": {
        "colab": {
          "base_uri": "https://localhost:8080/"
        },
        "id": "scd9sXuOwVfW",
        "outputId": "4e4a7d92-ad6b-42d7-fa30-b8a9dca52213"
      },
      "execution_count": null,
      "outputs": [
        {
          "output_type": "execute_result",
          "data": {
            "text/plain": [
              "[5, 4, 1, 3]"
            ]
          },
          "metadata": {},
          "execution_count": 9
        }
      ]
    },
    {
      "cell_type": "code",
      "source": [
        "stack.getMin()"
      ],
      "metadata": {
        "colab": {
          "base_uri": "https://localhost:8080/"
        },
        "id": "cllnflrjwXp3",
        "outputId": "6b166ff1-f96c-42b0-c56b-09e38c575c2a"
      },
      "execution_count": null,
      "outputs": [
        {
          "output_type": "execute_result",
          "data": {
            "text/plain": [
              "1"
            ]
          },
          "metadata": {},
          "execution_count": 10
        }
      ]
    },
    {
      "cell_type": "code",
      "source": [
        "stack.pop()\n",
        "stack.pop()\n",
        "stack.getMin()"
      ],
      "metadata": {
        "colab": {
          "base_uri": "https://localhost:8080/"
        },
        "id": "Tc10q8pnJZ45",
        "outputId": "aa1fbf49-8bf9-49bb-eb4f-47a8b64da3bf"
      },
      "execution_count": null,
      "outputs": [
        {
          "output_type": "execute_result",
          "data": {
            "text/plain": [
              "4"
            ]
          },
          "metadata": {},
          "execution_count": 11
        }
      ]
    },
    {
      "cell_type": "markdown",
      "source": [
        "# Three in One"
      ],
      "metadata": {
        "id": "Gr6G7FgdiWio"
      }
    },
    {
      "cell_type": "code",
      "source": [
        "class ThreeStack:\n",
        "\n",
        "  def __init__(self, cap=2, N=3):\n",
        "    self.size = cap\n",
        "    cap *= N\n",
        "    self.items = [None] * cap\n",
        "    self.start = [0, cap//3, 2*(cap//3)]\n",
        "    self.end = [cap//3, 2*(cap//3), cap]\n",
        "\n",
        "  def push(self, stack, val):\n",
        "    if stack > 2:\n",
        "      raise ValueError(f\"Stack {stack} does not exist!\")\n",
        "    \n",
        "    if self.start[stack] >= self.end[stack]:\n",
        "      raise ValueError(f\"Stack {stack} is full!\")\n",
        "    \n",
        "    self.items[self.start[stack]] = val\n",
        "    self.start[stack] += 1\n",
        "\n",
        "  def pop(self, stack):\n",
        "    if stack > 2:\n",
        "      raise ValueError(f\"Stack {stack} does not exist!\")\n",
        "    \n",
        "    top = self.start[stack] - 1\n",
        "    if top < 0 or self.items[top] == None:\n",
        "      raise ValueError(f\"Stack {stack} is empty! Can't pop!\")\n",
        "    if top < self.end[stack]-self.size:\n",
        "      raise ValueError(f\"Stack {stack} is empty! Can't pop!\")\n",
        "\n",
        "    item = self.items[top]\n",
        "    self.items[top] = None\n",
        "    self.start[stack] = top\n",
        "    return item\n",
        "\n",
        "  def peek(self, stack):\n",
        "    if stack > 2:\n",
        "      raise ValueError(f\"Stack {stack} does not exist!\")\n",
        "\n",
        "    top = self.start[stack] - 1\n",
        "    if top < 0 or self.items[top] == None:\n",
        "      raise ValueError(f\"Stack {stack} is empty! Can't peek!\")\n",
        "    if top < self.end[stack]-self.size:\n",
        "      raise ValueError(f\"Stack {stack} is empty! Can't peek!\")\n",
        "\n",
        "    return self.items[top]\n",
        "\n",
        "  def display(self):\n",
        "    print(self.items)"
      ],
      "metadata": {
        "id": "8xyBMWumJd2j"
      },
      "execution_count": null,
      "outputs": []
    },
    {
      "cell_type": "code",
      "source": [
        "stack = ThreeStack()"
      ],
      "metadata": {
        "id": "PIb_JOPRklWP"
      },
      "execution_count": null,
      "outputs": []
    },
    {
      "cell_type": "code",
      "source": [
        "stack.push(0,1)"
      ],
      "metadata": {
        "id": "QFZerQRTkn8m"
      },
      "execution_count": null,
      "outputs": []
    },
    {
      "cell_type": "code",
      "source": [
        "stack.push(0,2)"
      ],
      "metadata": {
        "id": "2WLW3gsWlw9P"
      },
      "execution_count": null,
      "outputs": []
    },
    {
      "cell_type": "code",
      "source": [
        "# stack.push(0,3)"
      ],
      "metadata": {
        "id": "zcwjrbGjl0rE"
      },
      "execution_count": null,
      "outputs": []
    },
    {
      "cell_type": "code",
      "source": [
        "stack.push(1,3)\n",
        "stack.push(1,4)\n",
        "\n",
        "stack.push(2,5)\n",
        "stack.push(2,6)"
      ],
      "metadata": {
        "id": "6ohhoc6cl53w"
      },
      "execution_count": null,
      "outputs": []
    },
    {
      "cell_type": "code",
      "source": [
        "stack.display()"
      ],
      "metadata": {
        "colab": {
          "base_uri": "https://localhost:8080/"
        },
        "id": "KrzdeIdFmC3M",
        "outputId": "ccca3555-2779-4408-b5db-7ac29ec484e9"
      },
      "execution_count": null,
      "outputs": [
        {
          "output_type": "stream",
          "name": "stdout",
          "text": [
            "[1, 2, 3, 4, 5, 6]\n"
          ]
        }
      ]
    },
    {
      "cell_type": "code",
      "source": [
        "stack.peek(1)"
      ],
      "metadata": {
        "colab": {
          "base_uri": "https://localhost:8080/"
        },
        "id": "gn06L4ufmEQ5",
        "outputId": "fdce9f40-7194-4a3b-97b9-cfc0c101d595"
      },
      "execution_count": null,
      "outputs": [
        {
          "output_type": "execute_result",
          "data": {
            "text/plain": [
              "4"
            ]
          },
          "metadata": {},
          "execution_count": 19
        }
      ]
    },
    {
      "cell_type": "code",
      "source": [
        "stack.pop(1)"
      ],
      "metadata": {
        "colab": {
          "base_uri": "https://localhost:8080/"
        },
        "id": "waFOEPt_mJin",
        "outputId": "641df41f-0f4e-4c60-a4d1-3bc4fe4abd44"
      },
      "execution_count": null,
      "outputs": [
        {
          "output_type": "execute_result",
          "data": {
            "text/plain": [
              "4"
            ]
          },
          "metadata": {},
          "execution_count": 20
        }
      ]
    },
    {
      "cell_type": "code",
      "source": [
        "stack.peek(1)"
      ],
      "metadata": {
        "colab": {
          "base_uri": "https://localhost:8080/"
        },
        "id": "unt-e08Hmal4",
        "outputId": "ac2c0798-1c90-4001-b5d3-e8f181fb6852"
      },
      "execution_count": null,
      "outputs": [
        {
          "output_type": "execute_result",
          "data": {
            "text/plain": [
              "3"
            ]
          },
          "metadata": {},
          "execution_count": 21
        }
      ]
    },
    {
      "cell_type": "code",
      "source": [
        "stack.pop(1)"
      ],
      "metadata": {
        "colab": {
          "base_uri": "https://localhost:8080/"
        },
        "id": "lFzgthpkpTlf",
        "outputId": "bda52fae-7d95-4007-a548-6461bc77e88f"
      },
      "execution_count": null,
      "outputs": [
        {
          "output_type": "execute_result",
          "data": {
            "text/plain": [
              "3"
            ]
          },
          "metadata": {},
          "execution_count": 22
        }
      ]
    },
    {
      "cell_type": "code",
      "source": [
        "# stack.pop(1)"
      ],
      "metadata": {
        "id": "z5BPlhxwpZuK"
      },
      "execution_count": null,
      "outputs": []
    },
    {
      "cell_type": "code",
      "source": [
        "stack.display()"
      ],
      "metadata": {
        "colab": {
          "base_uri": "https://localhost:8080/"
        },
        "id": "gfPecx7-mb2Z",
        "outputId": "5ec07e2c-ea39-4d8e-c61f-162ee93b28c8"
      },
      "execution_count": null,
      "outputs": [
        {
          "output_type": "stream",
          "name": "stdout",
          "text": [
            "[1, 2, None, None, 5, 6]\n"
          ]
        }
      ]
    },
    {
      "cell_type": "code",
      "source": [
        "# stack.peek(1)"
      ],
      "metadata": {
        "id": "CF3mwe5HmzbS"
      },
      "execution_count": null,
      "outputs": []
    },
    {
      "cell_type": "markdown",
      "source": [
        "# Queue with two Stacks"
      ],
      "metadata": {
        "id": "DFI60YF3NxBQ"
      }
    },
    {
      "cell_type": "code",
      "source": [
        "class MyQueue:\n",
        "  def __init__(self):\n",
        "    self.stack_store = []\n",
        "    self.stack_return = []\n",
        "\n",
        "  def enqueue(self, item):\n",
        "    self.stack_store.append(item)\n",
        "\n",
        "  def dequeue(self):\n",
        "    if not self.stack_return:\n",
        "      self.shift_stack()\n",
        "    if self.stack_return:\n",
        "      return self.stack_return.pop()\n",
        "\n",
        "  def peek(self):\n",
        "    if not self.stack_return:\n",
        "      self.shift_stack()\n",
        "    if self.stack_return:\n",
        "      return self.stack_return[-1]\n",
        "\n",
        "  def shift_stack(self):\n",
        "    while self.stack_store:\n",
        "      self.stack_return.append(self.stack_store.pop())"
      ],
      "metadata": {
        "id": "uUCCjbkcnGik"
      },
      "execution_count": null,
      "outputs": []
    },
    {
      "cell_type": "code",
      "source": [
        "queue = MyQueue()"
      ],
      "metadata": {
        "id": "VW1XSVT-PpTX"
      },
      "execution_count": null,
      "outputs": []
    },
    {
      "cell_type": "code",
      "source": [
        "queue.enqueue(3)\n",
        "queue.enqueue(24)\n",
        "queue.enqueue(9)"
      ],
      "metadata": {
        "id": "Ltr-skRTPsBa"
      },
      "execution_count": null,
      "outputs": []
    },
    {
      "cell_type": "code",
      "source": [
        "queue.dequeue()"
      ],
      "metadata": {
        "colab": {
          "base_uri": "https://localhost:8080/"
        },
        "id": "bwnd86u0QxQf",
        "outputId": "4e0fac55-368d-4610-de64-0e967bbd6376"
      },
      "execution_count": null,
      "outputs": [
        {
          "output_type": "execute_result",
          "data": {
            "text/plain": [
              "3"
            ]
          },
          "metadata": {},
          "execution_count": 29
        }
      ]
    },
    {
      "cell_type": "code",
      "source": [
        "queue.peek()"
      ],
      "metadata": {
        "colab": {
          "base_uri": "https://localhost:8080/"
        },
        "id": "n1xgCJ29Q0U2",
        "outputId": "03671419-6182-4436-8e88-52ad313c5f64"
      },
      "execution_count": null,
      "outputs": [
        {
          "output_type": "execute_result",
          "data": {
            "text/plain": [
              "24"
            ]
          },
          "metadata": {},
          "execution_count": 30
        }
      ]
    },
    {
      "cell_type": "code",
      "source": [
        "queue.enqueue(12)\n",
        "queue.enqueue(30)"
      ],
      "metadata": {
        "id": "VZ4IhBntQ9EV"
      },
      "execution_count": null,
      "outputs": []
    },
    {
      "cell_type": "code",
      "source": [
        "queue.peek()"
      ],
      "metadata": {
        "colab": {
          "base_uri": "https://localhost:8080/"
        },
        "id": "ohpNuWQZRC6N",
        "outputId": "5d584872-6694-47a8-fd35-ebc5e1ddaed9"
      },
      "execution_count": null,
      "outputs": [
        {
          "output_type": "execute_result",
          "data": {
            "text/plain": [
              "24"
            ]
          },
          "metadata": {},
          "execution_count": 32
        }
      ]
    },
    {
      "cell_type": "code",
      "source": [
        "queue.dequeue()"
      ],
      "metadata": {
        "colab": {
          "base_uri": "https://localhost:8080/"
        },
        "id": "urR6fW_JRLX3",
        "outputId": "1237e7a0-b307-4ac0-94dd-ae43964a0b64"
      },
      "execution_count": null,
      "outputs": [
        {
          "output_type": "execute_result",
          "data": {
            "text/plain": [
              "24"
            ]
          },
          "metadata": {},
          "execution_count": 33
        }
      ]
    },
    {
      "cell_type": "code",
      "source": [
        "queue.dequeue()"
      ],
      "metadata": {
        "colab": {
          "base_uri": "https://localhost:8080/"
        },
        "id": "o6Rud5bPRMz-",
        "outputId": "e7efb1ee-849b-42b1-d3cc-500d336c395f"
      },
      "execution_count": null,
      "outputs": [
        {
          "output_type": "execute_result",
          "data": {
            "text/plain": [
              "9"
            ]
          },
          "metadata": {},
          "execution_count": 34
        }
      ]
    },
    {
      "cell_type": "code",
      "source": [
        "queue.dequeue()"
      ],
      "metadata": {
        "colab": {
          "base_uri": "https://localhost:8080/"
        },
        "id": "iA2qb-qLRP7r",
        "outputId": "2fd2bcc7-0f1d-4f1d-e45d-4583312f8ede"
      },
      "execution_count": null,
      "outputs": [
        {
          "output_type": "execute_result",
          "data": {
            "text/plain": [
              "12"
            ]
          },
          "metadata": {},
          "execution_count": 35
        }
      ]
    },
    {
      "cell_type": "code",
      "source": [
        "queue.dequeue()"
      ],
      "metadata": {
        "colab": {
          "base_uri": "https://localhost:8080/"
        },
        "id": "cn8v1qR4RTAw",
        "outputId": "f0fdc590-5a7d-4113-a37c-400af191c2cc"
      },
      "execution_count": null,
      "outputs": [
        {
          "output_type": "execute_result",
          "data": {
            "text/plain": [
              "30"
            ]
          },
          "metadata": {},
          "execution_count": 36
        }
      ]
    },
    {
      "cell_type": "code",
      "source": [
        "queue.dequeue()"
      ],
      "metadata": {
        "id": "RECdjYNmRYH7"
      },
      "execution_count": null,
      "outputs": []
    },
    {
      "cell_type": "code",
      "source": [
        "queue.peek()"
      ],
      "metadata": {
        "id": "O_Mf6nqeRZDQ"
      },
      "execution_count": null,
      "outputs": []
    },
    {
      "cell_type": "markdown",
      "source": [
        "# Sort Stack"
      ],
      "metadata": {
        "id": "DEJkUf4Uw82o"
      }
    },
    {
      "cell_type": "code",
      "source": [
        "class Stack:\n",
        "  def __init__(self):\n",
        "    self.stack = []\n",
        "\n",
        "  def push(self, item):\n",
        "    self.stack.append(item)\n",
        "\n",
        "  def pop(self):\n",
        "    if self.isEmpty():\n",
        "      return\n",
        "    return self.stack.pop()\n",
        "  \n",
        "  def peek(self):\n",
        "    if self.isEmpty():\n",
        "      return\n",
        "    return self.stack[-1]\n",
        "\n",
        "  def isEmpty(self):\n",
        "    return len(self.stack) == 0\n",
        "\n",
        "  def display(self):\n",
        "    return self.stack\n",
        "\n",
        "  def sort(self):\n",
        "    temp_stack = Stack()\n",
        "    while not self.isEmpty():\n",
        "      temp = self.pop()\n",
        "      while(not temp_stack.isEmpty() and temp_stack.peek() > temp):\n",
        "          self.push(temp_stack.pop())\n",
        "      temp_stack.push(temp)\n",
        "\n",
        "    while not temp_stack.isEmpty():\n",
        "      self.push(temp_stack.pop())"
      ],
      "metadata": {
        "id": "OBT05rubSCOu"
      },
      "execution_count": null,
      "outputs": []
    },
    {
      "cell_type": "code",
      "source": [
        "stack = Stack()"
      ],
      "metadata": {
        "id": "pbNhsArRyu6w"
      },
      "execution_count": null,
      "outputs": []
    },
    {
      "cell_type": "code",
      "source": [
        "stack.push(4)\n",
        "stack.push(7)\n",
        "stack.push(9)\n",
        "stack.push(1)"
      ],
      "metadata": {
        "id": "oOKZxAomyx6x"
      },
      "execution_count": null,
      "outputs": []
    },
    {
      "cell_type": "code",
      "source": [
        "stack.display()"
      ],
      "metadata": {
        "colab": {
          "base_uri": "https://localhost:8080/"
        },
        "id": "YaiVpDpm1pMz",
        "outputId": "25dd5087-1338-4359-df08-57bde6ca84a0"
      },
      "execution_count": null,
      "outputs": [
        {
          "output_type": "execute_result",
          "data": {
            "text/plain": [
              "[4, 7, 9, 1]"
            ]
          },
          "metadata": {},
          "execution_count": 42
        }
      ]
    },
    {
      "cell_type": "code",
      "source": [
        "stack.sort()"
      ],
      "metadata": {
        "id": "nMDHj83Z1CDR"
      },
      "execution_count": null,
      "outputs": []
    },
    {
      "cell_type": "code",
      "source": [
        "stack.display()"
      ],
      "metadata": {
        "colab": {
          "base_uri": "https://localhost:8080/"
        },
        "id": "PEOtyjLH1Omj",
        "outputId": "902b4a22-e2bb-4739-b046-778c12149a21"
      },
      "execution_count": null,
      "outputs": [
        {
          "output_type": "execute_result",
          "data": {
            "text/plain": [
              "[9, 7, 4, 1]"
            ]
          },
          "metadata": {},
          "execution_count": 44
        }
      ]
    },
    {
      "cell_type": "markdown",
      "source": [
        "---"
      ],
      "metadata": {
        "id": "qKyn3swG1WMJ"
      }
    },
    {
      "cell_type": "markdown",
      "source": [
        "# **Sorting and Searching**"
      ],
      "metadata": {
        "id": "un3-d-6zLgrk"
      }
    },
    {
      "cell_type": "markdown",
      "source": [
        "# Bubble Sort"
      ],
      "metadata": {
        "id": "NGun0FU_UFPI"
      }
    },
    {
      "cell_type": "code",
      "source": [
        "def bubble_sort(array):\n",
        "  for i in range(len(array)):\n",
        "    swapped = False\n",
        "    for j in range(0, len(array)-1-i):\n",
        "      if array[j+1] < array[j]:\n",
        "        array[j+1], array[j] = array[j], array[j+1]\n",
        "        swapped = True\n",
        "    if not swapped:\n",
        "      break\n",
        "  return array"
      ],
      "metadata": {
        "id": "VIY9UeSxUHZ6"
      },
      "execution_count": null,
      "outputs": []
    },
    {
      "cell_type": "code",
      "source": [
        "arr = [5, 7, 1, 4, 12, 0]\n",
        "bubble_sort(arr)"
      ],
      "metadata": {
        "colab": {
          "base_uri": "https://localhost:8080/"
        },
        "id": "P2Lt1s3yUIEw",
        "outputId": "26cdb31a-9cc3-4046-e2c1-7943f6a2bd84"
      },
      "execution_count": null,
      "outputs": [
        {
          "output_type": "execute_result",
          "data": {
            "text/plain": [
              "[0, 1, 4, 5, 7, 12]"
            ]
          },
          "metadata": {},
          "execution_count": 34
        }
      ]
    },
    {
      "cell_type": "markdown",
      "source": [
        "# Selection Sort"
      ],
      "metadata": {
        "id": "FH7KHvr91XYc"
      }
    },
    {
      "cell_type": "code",
      "source": [
        "def selection_sort(array):\n",
        "  for i in range(len(array)-1):\n",
        "    min = i\n",
        "    for j in range(i+1, len(array)):\n",
        "      if array[j] < array[min]:\n",
        "        min = j\n",
        "    array[i], array[min] = array[min], array[i]\n",
        "  return array"
      ],
      "metadata": {
        "id": "PHKnZF2s89L8"
      },
      "execution_count": null,
      "outputs": []
    },
    {
      "cell_type": "code",
      "source": [
        "arr = [5, 7, 1, 4, 12, 0]\n",
        "selection_sort(arr)"
      ],
      "metadata": {
        "colab": {
          "base_uri": "https://localhost:8080/"
        },
        "id": "zZAKeKWU2rhS",
        "outputId": "555d42a0-7e9c-435f-8488-ec67fe29e4ad"
      },
      "execution_count": null,
      "outputs": [
        {
          "output_type": "execute_result",
          "data": {
            "text/plain": [
              "[0, 1, 4, 5, 7, 12]"
            ]
          },
          "metadata": {},
          "execution_count": 21
        }
      ]
    },
    {
      "cell_type": "markdown",
      "source": [
        "# Insertion Sort"
      ],
      "metadata": {
        "id": "VV4H93fmPFi4"
      }
    },
    {
      "cell_type": "code",
      "source": [
        "def insertion_sort(array):\n",
        "  for i in range(1, len(array)):\n",
        "    j = i\n",
        "    while j > 0 and array[j] < array[j-1]:\n",
        "      array[j], array[j-1] = array[j-1], array[j]\n",
        "      j -= 1\n",
        "  return array"
      ],
      "metadata": {
        "id": "Gl9bWjBp3KPG"
      },
      "execution_count": null,
      "outputs": []
    },
    {
      "cell_type": "code",
      "source": [
        "arr = [5, 7, 1, 4, 12, 0]\n",
        "insertion_sort(arr)"
      ],
      "metadata": {
        "colab": {
          "base_uri": "https://localhost:8080/"
        },
        "id": "wK980Fx5Q7GC",
        "outputId": "af594a59-79d0-4dd5-ec8b-b44324372cdf"
      },
      "execution_count": null,
      "outputs": [
        {
          "output_type": "execute_result",
          "data": {
            "text/plain": [
              "[0, 1, 4, 5, 7, 12]"
            ]
          },
          "metadata": {},
          "execution_count": 27
        }
      ]
    },
    {
      "cell_type": "markdown",
      "source": [
        "# Merge Sort"
      ],
      "metadata": {
        "id": "O7VAZjAMpoGN"
      }
    },
    {
      "cell_type": "code",
      "source": [
        "def merge_sort(array):\n",
        "  if len(array) == 1:\n",
        "    return array\n",
        "  \n",
        "  mid = len(array)//2\n",
        "  start = 0\n",
        "  end = len(array)\n",
        "\n",
        "  left_array = array[start:mid]\n",
        "  right_array = array[mid:end]\n",
        "  \n",
        "  return merge(merge_sort(left_array), merge_sort(right_array))\n",
        "\n",
        "def merge(left, right):\n",
        "  merged_list = []\n",
        "  while (left and right):\n",
        "    if left[0] < right[0]:\n",
        "      merged_list.append(left.pop(0))\n",
        "    else:\n",
        "      merged_list.append(right.pop(0))\n",
        "  while right:\n",
        "    merged_list.append(right.pop(0))\n",
        "  while left:\n",
        "    merged_list.append(left.pop(0))\n",
        "  return merged_list"
      ],
      "metadata": {
        "id": "HR4Joh2Pppiq"
      },
      "execution_count": null,
      "outputs": []
    },
    {
      "cell_type": "code",
      "source": [
        "arr = [5, 7, 1, 4, 12, 0]\n",
        "merge_sort(arr)"
      ],
      "metadata": {
        "colab": {
          "base_uri": "https://localhost:8080/"
        },
        "id": "fvI1HiGvpqT-",
        "outputId": "51a13242-e7bf-4219-dfdc-a0519faa0c76"
      },
      "execution_count": null,
      "outputs": [
        {
          "output_type": "execute_result",
          "data": {
            "text/plain": [
              "[0, 1, 4, 5, 7, 12]"
            ]
          },
          "metadata": {},
          "execution_count": 22
        }
      ]
    },
    {
      "cell_type": "markdown",
      "source": [
        "# Quick Sort"
      ],
      "metadata": {
        "id": "zh98jruKJYnr"
      }
    },
    {
      "cell_type": "code",
      "source": [
        "def quick_sort(array, low, high):\n",
        "  if low < high:\n",
        "    pivot_ind = partition(array, low, high)\n",
        "    quick_sort(array, low, pivot_ind-1)\n",
        "    quick_sort(array, pivot_ind+1, high)\n",
        "  # return array\n",
        "\n",
        "def partition(array, low, high):\n",
        "  pivot = array[high]\n",
        "  i = low - 1 # position of greater element\n",
        "  for j in range(low, high):\n",
        "    if array[j] <= pivot:\n",
        "      i += 1\n",
        "      array[i], array[j] = array[j], array[i]\n",
        "  \n",
        "  array[i+1], array[high] = array[high], array[i+1]\n",
        "  return i+1"
      ],
      "metadata": {
        "id": "4v9jYVsOJaD2"
      },
      "execution_count": null,
      "outputs": []
    },
    {
      "cell_type": "code",
      "source": [
        "arr = [5, 7, 1, 4, 12, 0]\n",
        "quick_sort(arr, 0, len(arr)-1)\n",
        "arr"
      ],
      "metadata": {
        "colab": {
          "base_uri": "https://localhost:8080/"
        },
        "id": "I8_g2IDOJaKQ",
        "outputId": "0ac369e4-03ed-4ac2-9c2f-6e8f419589e3"
      },
      "execution_count": null,
      "outputs": [
        {
          "output_type": "execute_result",
          "data": {
            "text/plain": [
              "[0, 1, 4, 5, 7, 12]"
            ]
          },
          "metadata": {},
          "execution_count": 12
        }
      ]
    },
    {
      "cell_type": "markdown",
      "source": [
        "# Recursion"
      ],
      "metadata": {
        "id": "I7vBL2pjLusI"
      }
    },
    {
      "cell_type": "code",
      "source": [
        "def factorial(num):\n",
        "  if num == 1:\n",
        "    return 1\n",
        "  return num * factorial(num-1)\n",
        "\n",
        "factorial(3)"
      ],
      "metadata": {
        "colab": {
          "base_uri": "https://localhost:8080/"
        },
        "id": "M-8xdHZHQ_29",
        "outputId": "effea5d3-925f-4d14-c195-45bbf5fec012"
      },
      "execution_count": null,
      "outputs": [
        {
          "output_type": "execute_result",
          "data": {
            "text/plain": [
              "6"
            ]
          },
          "metadata": {},
          "execution_count": 45
        }
      ]
    },
    {
      "cell_type": "code",
      "source": [
        "def sum_back(num):\n",
        "  if num == 1:\n",
        "    return 1\n",
        "  return num + sum_back(num-1)\n",
        "\n",
        "sum_back(3)"
      ],
      "metadata": {
        "colab": {
          "base_uri": "https://localhost:8080/"
        },
        "id": "oPZEQ0ewWE8H",
        "outputId": "4e8b553b-6a14-4598-b847-49892ed1b34c"
      },
      "execution_count": null,
      "outputs": [
        {
          "output_type": "execute_result",
          "data": {
            "text/plain": [
              "6"
            ]
          },
          "metadata": {},
          "execution_count": 46
        }
      ]
    },
    {
      "cell_type": "markdown",
      "source": [
        "# Binary Search"
      ],
      "metadata": {
        "id": "dIxiyIcO5QSE"
      }
    },
    {
      "cell_type": "code",
      "source": [
        "# left, right = 0, len(nums) - 1\n",
        "# while left <= right:\n",
        "#     pivot = left + (right - left) // 2\n",
        "#     if nums[pivot] == target:\n",
        "#         return pivot\n",
        "#     if target < nums[pivot]:\n",
        "#         right = pivot - 1\n",
        "#     else:\n",
        "#         left = pivot + 1\n",
        "# return -1"
      ],
      "metadata": {
        "id": "KYcm77RbAnFU"
      },
      "execution_count": null,
      "outputs": []
    },
    {
      "cell_type": "code",
      "source": [
        "def binary_search(array, low, high, key):\n",
        "  '''Array must be sorted'''\n",
        "  if low == high and array[low] != key:\n",
        "    return\n",
        "\n",
        "  mid = (low + high) // 2\n",
        "  if array[mid] == key:\n",
        "    return mid\n",
        "\n",
        "  if key < array[mid]:\n",
        "    high = mid - 1\n",
        "    return binary_search(array, low, high, key)\n",
        "  else:\n",
        "    low = mid + 1\n",
        "    return binary_search(array, low, high, key)"
      ],
      "metadata": {
        "id": "f00IcVNjWcHi"
      },
      "execution_count": null,
      "outputs": []
    },
    {
      "cell_type": "code",
      "source": [
        "arr = [0, 1, 4, 5, 7, 12]\n",
        "binary_search(arr, 0, len(arr)-1, 7)"
      ],
      "metadata": {
        "colab": {
          "base_uri": "https://localhost:8080/"
        },
        "id": "Uv7SwO3Y6CYk",
        "outputId": "aba878b3-e112-44de-dcc9-8f8be12613f2"
      },
      "execution_count": null,
      "outputs": [
        {
          "output_type": "execute_result",
          "data": {
            "text/plain": [
              "4"
            ]
          },
          "metadata": {},
          "execution_count": 51
        }
      ]
    },
    {
      "cell_type": "markdown",
      "source": [
        "---"
      ],
      "metadata": {
        "id": "rG6TTrdwlF87"
      }
    },
    {
      "cell_type": "markdown",
      "source": [
        "# Sorted Merge"
      ],
      "metadata": {
        "id": "CzFkFeIq0o6e"
      }
    },
    {
      "cell_type": "code",
      "source": [
        "# def Sorted_Merge(big_arr, small_arr):\n",
        "#   j = 0\n",
        "#   while small_arr:\n",
        "#     added = False\n",
        "#     for i in range(len(big_arr)):\n",
        "#       if small_arr[j] < big_arr[i]:\n",
        "#         big_arr.insert(i, small_arr.pop(j))\n",
        "#         added = True\n",
        "#         break\n",
        "#     if not added:\n",
        "#       big_arr.append(small_arr.pop(j))\n",
        "#   return big_arr"
      ],
      "metadata": {
        "id": "wMPiqEVv6Fpp"
      },
      "execution_count": null,
      "outputs": []
    },
    {
      "cell_type": "code",
      "source": [
        "# def Sorted_Merge_2(big_arr, small_arr):\n",
        "#   N = len(big_arr) + len(small_arr)\n",
        "#   result = [None] * N\n",
        "#   i = 0\n",
        "#   while (not all(result)) and big_arr and small_arr:\n",
        "#     if big_arr[0] < small_arr[0]:\n",
        "#       result[i] = big_arr.pop(0)\n",
        "#       i += 1\n",
        "#     else:\n",
        "#       result[i] = small_arr.pop(0)\n",
        "#       i += 1\n",
        "#   while small_arr:\n",
        "#     result[i] = small_arr.pop(0)\n",
        "#     i += 1\n",
        "#   while big_arr:\n",
        "#     result[i] = big_arr.pop(0)\n",
        "#     i += 1\n",
        "#   return result"
      ],
      "metadata": {
        "id": "le89uEYotS5T"
      },
      "execution_count": null,
      "outputs": []
    },
    {
      "cell_type": "code",
      "source": [
        "# big = [0, 4, 7, 9, 11, 12, 20]\n",
        "# small = [1, 5, 5, 8, 12]"
      ],
      "metadata": {
        "id": "rqC-2RPFlRxW"
      },
      "execution_count": null,
      "outputs": []
    },
    {
      "cell_type": "code",
      "source": [
        "# Sorted_Merge(big, small)"
      ],
      "metadata": {
        "colab": {
          "base_uri": "https://localhost:8080/"
        },
        "id": "QWk894t1o4aT",
        "outputId": "4ba95d83-f9ae-4d6b-d22b-e8a1e2fd0f99"
      },
      "execution_count": null,
      "outputs": [
        {
          "output_type": "execute_result",
          "data": {
            "text/plain": [
              "[0, 1, 4, 5, 5, 7, 8, 9, 11, 12, 12, 20]"
            ]
          },
          "metadata": {},
          "execution_count": 61
        }
      ]
    },
    {
      "cell_type": "code",
      "source": [
        "# Sorted_Merge_2(big, small)"
      ],
      "metadata": {
        "colab": {
          "base_uri": "https://localhost:8080/"
        },
        "id": "sSz19TdDw520",
        "outputId": "aea664ad-3210-476c-832d-ab90b33e3713"
      },
      "execution_count": null,
      "outputs": [
        {
          "output_type": "execute_result",
          "data": {
            "text/plain": [
              "[0, 1, 4, 5, 5, 7, 8, 9, 11, 12, 12, 20]"
            ]
          },
          "metadata": {},
          "execution_count": 62
        }
      ]
    },
    {
      "cell_type": "code",
      "source": [
        "def merge(nums1, m, nums2, n) -> None:\n",
        "    \"\"\"\n",
        "    Do not return anything, modify nums1 in-place instead.\n",
        "    \"\"\"\n",
        "    if n == 0:\n",
        "        return\n",
        "    k = m\n",
        "    while nums2:\n",
        "        swapped = False\n",
        "        for i in range(m):\n",
        "            if nums2[0] <= nums1[i]:\n",
        "                nums1[i], nums1[k] = nums1[k], nums1[i]\n",
        "                nums1[i] = nums2.pop(0)\n",
        "                swapped = True\n",
        "                k += 1\n",
        "                temp = i+1\n",
        "                break\n",
        "        if not swapped:\n",
        "            nums1[k] = nums2.pop(0)\n",
        "            m += 1\n",
        "            k += 1\n",
        "            continue\n",
        "        for i in range(temp,k):\n",
        "            if i == k-1:\n",
        "                break\n",
        "            nums1[i], nums1[k-1] = nums1[k-1], nums1[i]\n",
        "        m += 1"
      ],
      "metadata": {
        "id": "4qrt_1OZsTXc"
      },
      "execution_count": null,
      "outputs": []
    },
    {
      "cell_type": "code",
      "source": [
        "nums1 = [1, 2, 3, 0, 0, 0]\n",
        "nums2 = [2, 5, 6]\n",
        "m = 3\n",
        "n = 3\n",
        "merge(nums1, m, nums2, n)"
      ],
      "metadata": {
        "id": "X7nRbOKkp_QY"
      },
      "execution_count": null,
      "outputs": []
    },
    {
      "cell_type": "code",
      "source": [
        "nums1"
      ],
      "metadata": {
        "id": "2CdqHD0Lwy1M",
        "colab": {
          "base_uri": "https://localhost:8080/"
        },
        "outputId": "6cb2f819-bb95-459b-f166-7ac0e7a85a7a"
      },
      "execution_count": null,
      "outputs": [
        {
          "output_type": "execute_result",
          "data": {
            "text/plain": [
              "[1, 2, 2, 3, 5, 6]"
            ]
          },
          "metadata": {},
          "execution_count": 3
        }
      ]
    },
    {
      "cell_type": "markdown",
      "source": [
        "# Group Anagrams"
      ],
      "metadata": {
        "id": "XoG5zIRe_Ujt"
      }
    },
    {
      "cell_type": "code",
      "source": [
        "def groupAnagrams(strs):\n",
        "    if len(strs) == 1:\n",
        "        return [strs]\n",
        "    vals = []\n",
        "    final_arr = []\n",
        "    for i in strs:\n",
        "        vals.append(get_val(i))\n",
        "        \n",
        "    visited = dict()\n",
        "    for i in range(len(vals)):\n",
        "        if vals[i] not in visited:\n",
        "            visited.setdefault(vals[i], [strs[i]])\n",
        "        else:\n",
        "            visited[vals[i]].append(strs[i])\n",
        "            \n",
        "    \n",
        "    for val in visited.values():\n",
        "        final_arr.append(val)\n",
        "    \n",
        "    return final_arr\n",
        "\n",
        "def get_val(word):\n",
        "    return ''.join(sorted(word))"
      ],
      "metadata": {
        "id": "F0gd1hGOZW6L"
      },
      "execution_count": null,
      "outputs": []
    },
    {
      "cell_type": "code",
      "source": [
        "strs = [\"eat\",\"tea\",\"tan\",\"ate\",\"nat\",\"bat\"]\n",
        "groupAnagrams(strs)"
      ],
      "metadata": {
        "id": "rOs8KXhqYynU",
        "colab": {
          "base_uri": "https://localhost:8080/"
        },
        "outputId": "280236ff-1c8f-4f8f-ef50-0d0d6f7179b1"
      },
      "execution_count": null,
      "outputs": [
        {
          "output_type": "execute_result",
          "data": {
            "text/plain": [
              "[['eat', 'tea', 'ate'], ['tan', 'nat'], ['bat']]"
            ]
          },
          "metadata": {},
          "execution_count": 16
        }
      ]
    },
    {
      "cell_type": "markdown",
      "source": [
        "# Sorted Search, No Size"
      ],
      "metadata": {
        "id": "rT0Drh__J8jc"
      }
    },
    {
      "cell_type": "markdown",
      "source": [
        "> Also andother solution found in book"
      ],
      "metadata": {
        "id": "wjeNPbMdzBJs"
      }
    },
    {
      "cell_type": "code",
      "source": [
        "def find_in_nosize(array, target):\n",
        "  i = -1\n",
        "  while True:\n",
        "    try:\n",
        "      array[i+1]\n",
        "    except:\n",
        "      break\n",
        "    if array[i+1] != target:\n",
        "      i += 1\n",
        "    else:\n",
        "      return i+1\n",
        "  return -1"
      ],
      "metadata": {
        "id": "Xt-Oh-CvY0hx"
      },
      "execution_count": null,
      "outputs": []
    },
    {
      "cell_type": "code",
      "source": [
        "find_in_nosize([1, 2, 5, 12, 20, 23], 12)"
      ],
      "metadata": {
        "colab": {
          "base_uri": "https://localhost:8080/"
        },
        "id": "xchtJxnOGmy7",
        "outputId": "a3c5444c-762f-47c2-8ad6-cb11afe5e504"
      },
      "execution_count": null,
      "outputs": [
        {
          "output_type": "execute_result",
          "data": {
            "text/plain": [
              "3"
            ]
          },
          "metadata": {},
          "execution_count": 47
        }
      ]
    },
    {
      "cell_type": "code",
      "source": [
        "find_in_nosize([1, 2, 5, 12, 20, 23], 22)"
      ],
      "metadata": {
        "colab": {
          "base_uri": "https://localhost:8080/"
        },
        "id": "gOy-ZOQ9KqTr",
        "outputId": "0de5b99b-60a3-44aa-a133-ff0215ee77b1"
      },
      "execution_count": null,
      "outputs": [
        {
          "output_type": "execute_result",
          "data": {
            "text/plain": [
              "-1"
            ]
          },
          "metadata": {},
          "execution_count": 48
        }
      ]
    },
    {
      "cell_type": "markdown",
      "source": [
        "# Sparse Search"
      ],
      "metadata": {
        "id": "nY3s_8GxEX5k"
      }
    },
    {
      "cell_type": "code",
      "source": [
        "def sparse_search(array, low, high, key):\n",
        "  '''Array must be sorted'''\n",
        "  if key == '':\n",
        "    return\n",
        "  if (low == high and array[low] != key) or (low == high and array[low] == ''):\n",
        "    return -1\n",
        "  if not any(array[low:high+1]):\n",
        "    return -1\n",
        "\n",
        "  mid = (low + high) // 2\n",
        "  while array[mid] == \"\":\n",
        "    mid -= 1\n",
        "\n",
        "  if array[mid] == key:\n",
        "    return mid\n",
        "  elif key < array[mid]:\n",
        "    high = mid - 1\n",
        "    return sparse_search(array, low, high, key)\n",
        "  else:\n",
        "    low = mid + 1\n",
        "    return sparse_search(array, low, high, key)"
      ],
      "metadata": {
        "id": "T464SR_JLeD-"
      },
      "execution_count": null,
      "outputs": []
    },
    {
      "cell_type": "code",
      "source": [
        "arr = ['at', '', '', '', 'ball', '', '', 'car', '', '', 'dad', '', '']\n",
        "sparse_search(arr, 0, len(arr)-1, \"ball\")"
      ],
      "metadata": {
        "colab": {
          "base_uri": "https://localhost:8080/"
        },
        "id": "3EC1_Bv31DXQ",
        "outputId": "7a2ae063-ece8-40e9-d07c-934f181c4c7b"
      },
      "execution_count": null,
      "outputs": [
        {
          "output_type": "execute_result",
          "data": {
            "text/plain": [
              "4"
            ]
          },
          "metadata": {},
          "execution_count": 46
        }
      ]
    },
    {
      "cell_type": "markdown",
      "source": [
        "---"
      ],
      "metadata": {
        "id": "Ir7YJ2kpNisg"
      }
    },
    {
      "cell_type": "markdown",
      "source": [
        "# **Trees**"
      ],
      "metadata": {
        "id": "n3_xvfneOWX8"
      }
    },
    {
      "cell_type": "markdown",
      "source": [
        "# Traverse Tree"
      ],
      "metadata": {
        "id": "braGQkSRwflt"
      }
    },
    {
      "cell_type": "code",
      "source": [
        "class Node:\n",
        "  def __init__(self, val: str):\n",
        "    self.val = val\n",
        "    self.left = None\n",
        "    self.right = None\n",
        "\n",
        "def in_order(node: Node):\n",
        "  if node:\n",
        "    in_order(node.left)\n",
        "    visit_node(node.val)\n",
        "    in_order(node.right)\n",
        "  else:\n",
        "    return\n",
        "\n",
        "def visit_node(val: str):\n",
        "  print(val, end=' ')"
      ],
      "metadata": {
        "id": "sPJJ53UL2vgr"
      },
      "execution_count": null,
      "outputs": []
    },
    {
      "cell_type": "markdown",
      "source": [
        "![image.png](data:image/png;base64,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)"
      ],
      "metadata": {
        "id": "eDgoAVpayMo6"
      }
    },
    {
      "cell_type": "code",
      "source": [
        "D = Node('D')\n",
        "D.left = Node('C')\n",
        "D.right = Node('E')\n",
        "I = Node('I')\n",
        "I.left = Node('H')\n",
        "B = Node('B')\n",
        "B.left = Node('A')\n",
        "B.right = D\n",
        "G = Node('G')\n",
        "G.right = I\n",
        "root = Node('F')\n",
        "root.left = B\n",
        "root.right = G"
      ],
      "metadata": {
        "id": "N-ZCHIflHZoh"
      },
      "execution_count": null,
      "outputs": []
    },
    {
      "cell_type": "code",
      "source": [
        "in_order(root)"
      ],
      "metadata": {
        "colab": {
          "base_uri": "https://localhost:8080/"
        },
        "id": "FUD4GSbAzfeY",
        "outputId": "7a5da332-fc9b-4162-92d0-b77f75178b7b"
      },
      "execution_count": null,
      "outputs": [
        {
          "output_type": "stream",
          "name": "stdout",
          "text": [
            "A B C D E F G H I "
          ]
        }
      ]
    },
    {
      "cell_type": "markdown",
      "source": [
        "# Full Binary Tree"
      ],
      "metadata": {
        "id": "kBvMZJ2sH23v"
      }
    },
    {
      "cell_type": "code",
      "source": [
        "# Checking if a binary tree is a full binary tree in Python\n",
        "\n",
        "# Creating a node\n",
        "class Node:\n",
        "\n",
        "    def __init__(self, item):\n",
        "        self.item = item\n",
        "        self.leftChild = None\n",
        "        self.rightChild = None\n",
        "\n",
        "\n",
        "# Checking full binary tree\n",
        "def isFullTree(root):\n",
        "\n",
        "    # Tree empty case\n",
        "    if root is None:\n",
        "        return True\n",
        "\n",
        "    # Checking whether child is present\n",
        "    if root.leftChild is None and root.rightChild is None:\n",
        "        return True\n",
        "\n",
        "    if root.leftChild is not None and root.rightChild is not None:\n",
        "        return (isFullTree(root.leftChild) and isFullTree(root.rightChild))\n",
        "\n",
        "    return False\n",
        "\n",
        "\n",
        "root = Node(1)\n",
        "root.rightChild = Node(3)\n",
        "root.leftChild = Node(2)\n",
        "\n",
        "root.leftChild.leftChild = Node(4)\n",
        "root.leftChild.rightChild = Node(5)\n",
        "root.leftChild.rightChild.leftChild = Node(6)\n",
        "root.leftChild.rightChild.rightChild = Node(7)\n",
        "\n",
        "if isFullTree(root):\n",
        "    print(\"The tree is a full binary tree\")\n",
        "else:\n",
        "    print(\"The tree is not a full binary tree\")"
      ],
      "metadata": {
        "colab": {
          "base_uri": "https://localhost:8080/"
        },
        "id": "Qy_MiXXRzkxt",
        "outputId": "5f0b1ecb-e3bb-432a-8faf-17b98b8e714b"
      },
      "execution_count": null,
      "outputs": [
        {
          "output_type": "stream",
          "name": "stdout",
          "text": [
            "The tree is a full binary tree\n"
          ]
        }
      ]
    },
    {
      "cell_type": "markdown",
      "source": [
        "# Perfect Binary Tree"
      ],
      "metadata": {
        "id": "ioWLFk4MQ6xn"
      }
    },
    {
      "cell_type": "code",
      "source": [
        "# Checking if a binary tree is a perfect binary tree in Python\n",
        "\n",
        "class newNode:\n",
        "    def __init__(self, k):\n",
        "        self.key = k\n",
        "        self.right = self.left = None\n",
        "\n",
        "\n",
        "# Calculate the depth\n",
        "def calculateDepth(node):\n",
        "    d = 0\n",
        "    while (node is not None):\n",
        "        d += 1\n",
        "        node = node.left\n",
        "    return d\n",
        "\n",
        "\n",
        "# Check if the tree is perfect binary tree\n",
        "def is_perfect(root, d, level=0):\n",
        "\n",
        "    # Check if the tree is empty\n",
        "    if (root is None):\n",
        "        return True\n",
        "\n",
        "    # Check the presence of trees\n",
        "    if (root.left is None and root.right is None):\n",
        "        return (d == level + 1)\n",
        "\n",
        "    if (root.left is None or root.right is None):\n",
        "        return False\n",
        "\n",
        "    return (is_perfect(root.left, d, level + 1) and\n",
        "            is_perfect(root.right, d, level + 1))\n",
        "\n",
        "\n",
        "root = None\n",
        "root = newNode(1)\n",
        "root.left = newNode(2)\n",
        "root.right = newNode(3)\n",
        "root.left.left = newNode(4)\n",
        "root.left.right = newNode(5)\n",
        "root.right.left = newNode(6)\n",
        "root.right.right = newNode(7)\n",
        "\n",
        "if (is_perfect(root, calculateDepth(root))):\n",
        "    print(\"The tree is a perfect binary tree\")\n",
        "else:\n",
        "    print(\"The tree is not a perfect binary tree\")"
      ],
      "metadata": {
        "colab": {
          "base_uri": "https://localhost:8080/"
        },
        "id": "rJzVr4QWIDFr",
        "outputId": "2fac9873-7f4d-45df-8c5b-3ecea8b27029"
      },
      "execution_count": null,
      "outputs": [
        {
          "output_type": "stream",
          "name": "stdout",
          "text": [
            "The tree is a perfect binary tree\n"
          ]
        }
      ]
    },
    {
      "cell_type": "markdown",
      "source": [
        "# Heap data structure"
      ],
      "metadata": {
        "id": "UlGP4esMF0aX"
      }
    },
    {
      "cell_type": "code",
      "source": [
        "# Max-Heap data structure in Python\n",
        "\n",
        "def heapify(arr, n, i):\n",
        "    largest = i\n",
        "    l = 2 * i + 1\n",
        "    r = 2 * i + 2 \n",
        "    \n",
        "    if l < n and arr[i] < arr[l]:\n",
        "        largest = l\n",
        "    \n",
        "    if r < n and arr[largest] < arr[r]:\n",
        "        largest = r\n",
        "    \n",
        "    if largest != i:\n",
        "        arr[i],arr[largest] = arr[largest],arr[i]\n",
        "        heapify(arr, n, largest)\n",
        "\n",
        "def insert(array, newNum):\n",
        "    size = len(array)\n",
        "    if size == 0:\n",
        "        array.append(newNum)\n",
        "    else:\n",
        "        array.append(newNum);\n",
        "        for i in range((size//2)-1, -1, -1):\n",
        "            heapify(array, size, i)\n",
        "\n",
        "def deleteNode(array, num):\n",
        "    size = len(array)\n",
        "    i = 0\n",
        "    for i in range(0, size):\n",
        "        if num == array[i]:\n",
        "            break\n",
        "        \n",
        "    array[i], array[size-1] = array[size-1], array[i]\n",
        "\n",
        "    array.remove(num)\n",
        "    \n",
        "    for i in range((len(array)//2)-1, -1, -1):\n",
        "        heapify(array, len(array), i)\n",
        "    \n",
        "arr = []\n",
        "\n",
        "insert(arr, 3)\n",
        "insert(arr, 4)\n",
        "insert(arr, 9)\n",
        "insert(arr, 5)\n",
        "insert(arr, 2)\n",
        "\n",
        "print (\"Max-Heap array: \" + str(arr))\n",
        "\n",
        "deleteNode(arr, 4)\n",
        "print(\"After deleting an element: \" + str(arr))"
      ],
      "metadata": {
        "id": "HV07ZKqFRuyB",
        "colab": {
          "base_uri": "https://localhost:8080/"
        },
        "outputId": "1132d033-178a-4905-c842-6950cdde41d9"
      },
      "execution_count": null,
      "outputs": [
        {
          "output_type": "stream",
          "name": "stdout",
          "text": [
            "Max-Heap array: [9, 5, 4, 3, 2]\n",
            "After deleting an element: [9, 5, 2, 3]\n"
          ]
        }
      ]
    },
    {
      "cell_type": "markdown",
      "source": [
        "# Balanced Binary Tree"
      ],
      "metadata": {
        "id": "8gxXq-0FPlEG"
      }
    },
    {
      "cell_type": "code",
      "source": [
        "# Checking if a binary tree is height balanced in Python\n",
        "\n",
        "\n",
        "class Node:\n",
        "\n",
        "    def __init__(self, data):\n",
        "        self.data = data\n",
        "        self.left = self.right = None\n",
        "\n",
        "\n",
        "class Height:\n",
        "    def __init__(self):\n",
        "        self.height = 0\n",
        "\n",
        "\n",
        "def isHeightBalanced(root, height):\n",
        "\n",
        "    left_height = Height()\n",
        "    right_height = Height()\n",
        "\n",
        "    if root is None:\n",
        "        return True\n",
        "\n",
        "    l = isHeightBalanced(root.left, left_height)\n",
        "    r = isHeightBalanced(root.right, right_height)\n",
        "\n",
        "    height.height = max(left_height.height, right_height.height) + 1\n",
        "\n",
        "    if abs(left_height.height - right_height.height) <= 1:\n",
        "        return (l and r)\n",
        "\n",
        "    return False\n",
        "\n",
        "\n",
        "height = Height()\n",
        "\n",
        "root = Node(1)\n",
        "root.left = Node(2)\n",
        "root.right = Node(3)\n",
        "root.left.left = Node(4)\n",
        "root.left.right = Node(5)\n",
        "\n",
        "if isHeightBalanced(root, height):\n",
        "    print('The tree is balanced')\n",
        "else:\n",
        "    print('The tree is not balanced')\n"
      ],
      "metadata": {
        "colab": {
          "base_uri": "https://localhost:8080/"
        },
        "id": "TzchYaRHGSZB",
        "outputId": "476b0c6b-09f5-44a5-eb90-3fb4343143ef"
      },
      "execution_count": 1,
      "outputs": [
        {
          "output_type": "stream",
          "name": "stdout",
          "text": [
            "The tree is balanced\n"
          ]
        }
      ]
    },
    {
      "cell_type": "markdown",
      "source": [
        "# Binary Search Tree"
      ],
      "metadata": {
        "id": "QSRKQvd6iIjp"
      }
    },
    {
      "cell_type": "code",
      "source": [
        "# Binary Search Tree operations in Python\n",
        "\n",
        "\n",
        "# Create a node\n",
        "class Node:\n",
        "    def __init__(self, key):\n",
        "        self.key = key\n",
        "        self.left = None\n",
        "        self.right = None\n",
        "\n",
        "\n",
        "# Inorder traversal\n",
        "def inorder(root):\n",
        "    if root is not None:\n",
        "        # Traverse left\n",
        "        inorder(root.left)\n",
        "\n",
        "        # Traverse root\n",
        "        print(str(root.key) + \"->\", end=' ')\n",
        "\n",
        "        # Traverse right\n",
        "        inorder(root.right)\n",
        "\n",
        "\n",
        "# Insert a node\n",
        "def insert(node, key):\n",
        "\n",
        "    # Return a new node if the tree is empty\n",
        "    if node is None:\n",
        "        return Node(key)\n",
        "\n",
        "    # Traverse to the right place and insert the node\n",
        "    if key < node.key:\n",
        "        node.left = insert(node.left, key)\n",
        "    else:\n",
        "        node.right = insert(node.right, key)\n",
        "\n",
        "    return node\n",
        "\n",
        "\n",
        "# Find the inorder successor\n",
        "def minValueNode(node):\n",
        "    current = node\n",
        "\n",
        "    # Find the leftmost leaf\n",
        "    while(current.left is not None):\n",
        "        current = current.left\n",
        "\n",
        "    return current\n",
        "\n",
        "\n",
        "# Deleting a node\n",
        "def deleteNode(root, key):\n",
        "\n",
        "    # Return if the tree is empty\n",
        "    if root is None:\n",
        "        return root\n",
        "\n",
        "    # Find the node to be deleted\n",
        "    if key < root.key:\n",
        "        root.left = deleteNode(root.left, key)\n",
        "    elif(key > root.key):\n",
        "        root.right = deleteNode(root.right, key)\n",
        "    else:\n",
        "        # If the node is with only one child or no child\n",
        "        if root.left is None:\n",
        "            temp = root.right\n",
        "            root = None\n",
        "            return temp\n",
        "\n",
        "        elif root.right is None:\n",
        "            temp = root.left\n",
        "            root = None\n",
        "            return temp\n",
        "\n",
        "        # If the node has two children,\n",
        "        # place the inorder successor in position of the node to be deleted\n",
        "        temp = minValueNode(root.right)\n",
        "\n",
        "        root.key = temp.key\n",
        "\n",
        "        # Delete the inorder successor\n",
        "        root.right = deleteNode(root.right, temp.key)\n",
        "\n",
        "    return root\n",
        "\n",
        "\n",
        "root = None\n",
        "root = insert(root, 8)\n",
        "root = insert(root, 3)\n",
        "root = insert(root, 1)\n",
        "root = insert(root, 6)\n",
        "root = insert(root, 7)\n",
        "root = insert(root, 10)\n",
        "root = insert(root, 14)\n",
        "root = insert(root, 4)\n",
        "\n",
        "print(\"Inorder traversal: \", end=' ')\n",
        "inorder(root)\n",
        "\n",
        "print(\"\\nDelete 10\")\n",
        "root = deleteNode(root, 10)\n",
        "print(\"Inorder traversal: \", end=' ')\n",
        "inorder(root)"
      ],
      "metadata": {
        "colab": {
          "base_uri": "https://localhost:8080/"
        },
        "id": "-edYOIrjHgRV",
        "outputId": "01a07975-204f-41ba-e2b2-5fecc460b403"
      },
      "execution_count": null,
      "outputs": [
        {
          "output_type": "stream",
          "name": "stdout",
          "text": [
            "Inorder traversal:  1-> 3-> 4-> 6-> 7-> 8-> 10-> 14-> \n",
            "Delete 10\n",
            "Inorder traversal:  1-> 3-> 4-> 6-> 7-> 8-> 14-> "
          ]
        }
      ]
    },
    {
      "cell_type": "markdown",
      "source": [
        "# Minimal Tree"
      ],
      "metadata": {
        "id": "d1LGwrB3gy7x"
      }
    },
    {
      "cell_type": "code",
      "source": [
        "class Node:\n",
        "  def __init__(self, data):\n",
        "    self.data = data\n",
        "    self.left = None\n",
        "    self.right = None\n",
        "\n",
        "def in_order(root):\n",
        "  if root:\n",
        "    in_order(root.left)\n",
        "    print(root.data, end=' ')\n",
        "    in_order(root.right)\n",
        "\n",
        "def make_bst(arr, low, high):\n",
        "  mid = (low + high) // 2\n",
        "  if low > high:\n",
        "    return\n",
        "  root = Node(arr[mid])\n",
        "  root.left = make_bst(arr, low, mid-1)\n",
        "  root.right = make_bst(arr, mid+1, high)\n",
        "  return root"
      ],
      "metadata": {
        "id": "RJSmnRPyHo-C"
      },
      "execution_count": 2,
      "outputs": []
    },
    {
      "cell_type": "code",
      "source": [
        "arr = [1, 3, 4, 6, 8, 10]\n",
        "bst = make_bst(arr, 0, len(arr)-1)"
      ],
      "metadata": {
        "id": "Ol7mb1Vz5xFS"
      },
      "execution_count": 3,
      "outputs": []
    },
    {
      "cell_type": "code",
      "source": [
        "in_order(bst)"
      ],
      "metadata": {
        "colab": {
          "base_uri": "https://localhost:8080/"
        },
        "id": "vjsKBkX35yqO",
        "outputId": "c124d5c3-1123-4951-b241-e70202ff436d"
      },
      "execution_count": 4,
      "outputs": [
        {
          "output_type": "stream",
          "name": "stdout",
          "text": [
            "1 3 4 6 8 10 "
          ]
        }
      ]
    },
    {
      "cell_type": "markdown",
      "source": [
        "# Check Balanced"
      ],
      "metadata": {
        "id": "ozlcHnGuPJvM"
      }
    },
    {
      "cell_type": "code",
      "source": [
        "def get_height(root):\n",
        "  if root is None:\n",
        "    return -1\n",
        "  return 1 + max(get_height(root.right), get_height(root.left))"
      ],
      "metadata": {
        "id": "d69l8MT_8Bjv"
      },
      "execution_count": 5,
      "outputs": []
    },
    {
      "cell_type": "code",
      "source": [
        "def check_balanced(root):\n",
        "  if root is None:\n",
        "    return True\n",
        "  if abs(get_height(root.left) - get_height(root.right)) <= 1:\n",
        "    return check_balanced(root.left) and check_balanced(root.right)\n",
        "  else:\n",
        "    return False"
      ],
      "metadata": {
        "id": "x6H3kB1-9ZXO"
      },
      "execution_count": 6,
      "outputs": []
    },
    {
      "cell_type": "code",
      "source": [
        "check_balanced(bst)"
      ],
      "metadata": {
        "colab": {
          "base_uri": "https://localhost:8080/"
        },
        "id": "4C8vzQSwm6A3",
        "outputId": "04eee69b-4987-474f-89c0-847ee8cf46d3"
      },
      "execution_count": 7,
      "outputs": [
        {
          "output_type": "execute_result",
          "data": {
            "text/plain": [
              "True"
            ]
          },
          "metadata": {},
          "execution_count": 7
        }
      ]
    },
    {
      "cell_type": "markdown",
      "source": [
        "# Validate BST"
      ],
      "metadata": {
        "id": "JR1hmSbv_oV7"
      }
    },
    {
      "cell_type": "code",
      "source": [
        "## NOT RIGHT\n",
        "# def validate_bst(root):\n",
        "#   if root is None:\n",
        "#     return True\n",
        "#   l = r = True\n",
        "#   if root.left:\n",
        "#     if root.left.data < root.data:\n",
        "#       l = validate_bst(root.left)\n",
        "#     else:\n",
        "#       l = False\n",
        "#   if root.right:\n",
        "#     if root.right.data > root.data:\n",
        "#       r = validate_bst(root.right)\n",
        "#     else:\n",
        "#       r = False\n",
        "#   return l and r"
      ],
      "metadata": {
        "id": "IhZNrDTN7qRN"
      },
      "execution_count": null,
      "outputs": []
    },
    {
      "cell_type": "code",
      "source": [
        "def checkBST(root, min, max):\n",
        "  if root is None:\n",
        "    return True\n",
        "  if ((min != None and root.data <= min) or (max != None and root.data >= max)):\n",
        "    return False\n",
        "  l = checkBST(root.left, min, root.data)\n",
        "  r = checkBST(root.right, root.data, max)\n",
        "  if ((not l) or (not r)):\n",
        "    return False\n",
        "  return True"
      ],
      "metadata": {
        "id": "mPYUdwHFEQbp"
      },
      "execution_count": 8,
      "outputs": []
    },
    {
      "cell_type": "code",
      "source": [
        "checkBST(bst, None, None)"
      ],
      "metadata": {
        "colab": {
          "base_uri": "https://localhost:8080/"
        },
        "id": "iMugKT7nAlcP",
        "outputId": "78b1c8d4-c624-4355-b8e4-9c783d268db2"
      },
      "execution_count": 9,
      "outputs": [
        {
          "output_type": "execute_result",
          "data": {
            "text/plain": [
              "True"
            ]
          },
          "metadata": {},
          "execution_count": 9
        }
      ]
    },
    {
      "cell_type": "code",
      "source": [
        "new = Node(5)\n",
        "new.left = Node(3)\n",
        "new.right = Node(10)\n",
        "new.left.left = Node(1)\n",
        "new.left.right = Node(6)\n",
        "\n",
        "checkBST(new, None, None)"
      ],
      "metadata": {
        "colab": {
          "base_uri": "https://localhost:8080/"
        },
        "id": "ayTRRo-4AnY4",
        "outputId": "73a8f6b7-3678-42f1-ba83-0eab94fea9b2"
      },
      "execution_count": 10,
      "outputs": [
        {
          "output_type": "execute_result",
          "data": {
            "text/plain": [
              "False"
            ]
          },
          "metadata": {},
          "execution_count": 10
        }
      ]
    },
    {
      "cell_type": "markdown",
      "source": [
        "---"
      ],
      "metadata": {
        "id": "a21SrgsjNvDF"
      }
    },
    {
      "cell_type": "markdown",
      "source": [
        "# **Graphs**"
      ],
      "metadata": {
        "id": "Xe4n3YvrNwPa"
      }
    },
    {
      "cell_type": "markdown",
      "source": [
        "# Adjascency Matrix for a Graph"
      ],
      "metadata": {
        "id": "4yCZZCn7eSnR"
      }
    },
    {
      "cell_type": "code",
      "source": [
        "# Adjacency Matrix representation in Python\n",
        "\n",
        "\n",
        "class Graph(object):\n",
        "\n",
        "    # Initialize the matrix\n",
        "    def __init__(self, size):\n",
        "        self.adjMatrix = []\n",
        "        for i in range(size):\n",
        "            self.adjMatrix.append([0 for i in range(size)])\n",
        "        self.size = size\n",
        "\n",
        "    # Add edges\n",
        "    def add_edge(self, v1, v2):\n",
        "        if v1 == v2:\n",
        "            print(\"Same vertex %d and %d\" % (v1, v2))\n",
        "        self.adjMatrix[v1][v2] = 1\n",
        "        self.adjMatrix[v2][v1] = 1\n",
        "\n",
        "    # Remove edges\n",
        "    def remove_edge(self, v1, v2):\n",
        "        if self.adjMatrix[v1][v2] == 0:\n",
        "            print(\"No edge between %d and %d\" % (v1, v2))\n",
        "            return\n",
        "        self.adjMatrix[v1][v2] = 0\n",
        "        self.adjMatrix[v2][v1] = 0\n",
        "\n",
        "    def __len__(self):\n",
        "        return self.size\n",
        "\n",
        "    # Print the matrix\n",
        "    def print_matrix(self):\n",
        "        for row in self.adjMatrix:\n",
        "            for val in row:\n",
        "                print('{:4}'.format(val), end=' ')\n",
        "            print()"
      ],
      "metadata": {
        "id": "wMwKSFa1c_gz"
      },
      "execution_count": 11,
      "outputs": []
    },
    {
      "cell_type": "code",
      "source": [
        "g = Graph(5)\n",
        "\n",
        "g.print_matrix()"
      ],
      "metadata": {
        "colab": {
          "base_uri": "https://localhost:8080/"
        },
        "id": "Z3SsAihMeltN",
        "outputId": "258df006-d198-4271-9d6b-7dbb8d880dc0"
      },
      "execution_count": 12,
      "outputs": [
        {
          "output_type": "stream",
          "name": "stdout",
          "text": [
            "   0    0    0    0    0 \n",
            "   0    0    0    0    0 \n",
            "   0    0    0    0    0 \n",
            "   0    0    0    0    0 \n",
            "   0    0    0    0    0 \n"
          ]
        }
      ]
    },
    {
      "cell_type": "code",
      "source": [
        "g.add_edge(0, 1)\n",
        "g.add_edge(0, 2)\n",
        "g.add_edge(1, 2)\n",
        "g.add_edge(2, 0)\n",
        "g.add_edge(2, 3)\n",
        "\n",
        "g.print_matrix()"
      ],
      "metadata": {
        "colab": {
          "base_uri": "https://localhost:8080/"
        },
        "id": "I4wAM4SWfWfW",
        "outputId": "ef248141-aa63-4533-b93d-f3d41eb4287d"
      },
      "execution_count": 13,
      "outputs": [
        {
          "output_type": "stream",
          "name": "stdout",
          "text": [
            "   0    1    1    0    0 \n",
            "   1    0    1    0    0 \n",
            "   1    1    0    1    0 \n",
            "   0    0    1    0    0 \n",
            "   0    0    0    0    0 \n"
          ]
        }
      ]
    },
    {
      "cell_type": "code",
      "source": [
        "g.remove_edge(2, 0)\n",
        "\n",
        "g.print_matrix()"
      ],
      "metadata": {
        "colab": {
          "base_uri": "https://localhost:8080/"
        },
        "id": "f-apSVYTfrA6",
        "outputId": "08cad398-933e-440e-a2bd-fdc90e85541e"
      },
      "execution_count": 14,
      "outputs": [
        {
          "output_type": "stream",
          "name": "stdout",
          "text": [
            "   0    1    0    0    0 \n",
            "   1    0    1    0    0 \n",
            "   0    1    0    1    0 \n",
            "   0    0    1    0    0 \n",
            "   0    0    0    0    0 \n"
          ]
        }
      ]
    },
    {
      "cell_type": "markdown",
      "source": [
        "# Adjascency List for a Graph"
      ],
      "metadata": {
        "id": "y_-GXGiGpsno"
      }
    },
    {
      "cell_type": "code",
      "source": [
        "# Adjascency List representation in Python\n",
        "\n",
        "\n",
        "class AdjNode:\n",
        "    def __init__(self, value):\n",
        "        self.vertex = value\n",
        "        self.next = None\n",
        "\n",
        "    def __repr__(self):\n",
        "      return f\"Node({str(self.vertex)})\"\n",
        "\n",
        "\n",
        "class Graph:\n",
        "    def __init__(self, num):\n",
        "        self.V = num\n",
        "        self.graph = [None] * self.V\n",
        "\n",
        "    # Add edges\n",
        "    def add_edge(self, s, d):\n",
        "        node = AdjNode(d)\n",
        "        node.next = self.graph[s]\n",
        "        self.graph[s] = node\n",
        "\n",
        "        node = AdjNode(s)\n",
        "        node.next = self.graph[d]\n",
        "        self.graph[d] = node\n",
        "\n",
        "    # Print the graph\n",
        "    def print_agraph(self):\n",
        "        for i in range(self.V):\n",
        "            print(\"Vertex \" + str(i) + \":\", end=\"\")\n",
        "            temp = self.graph[i]\n",
        "            while temp:\n",
        "                print(\" -> {}\".format(temp.vertex), end=\"\")\n",
        "                temp = temp.next\n",
        "            print(\" \\n\")"
      ],
      "metadata": {
        "id": "Yr7dOt06f31e"
      },
      "execution_count": 15,
      "outputs": []
    },
    {
      "cell_type": "code",
      "source": [
        "V = 5\n",
        "\n",
        "# Create graph and edges\n",
        "graph = Graph(V)\n",
        "\n",
        "graph.print_agraph()"
      ],
      "metadata": {
        "colab": {
          "base_uri": "https://localhost:8080/"
        },
        "id": "LrRZzX7Umfhr",
        "outputId": "d684aab6-a53f-4984-db60-60d169a0c161"
      },
      "execution_count": 16,
      "outputs": [
        {
          "output_type": "stream",
          "name": "stdout",
          "text": [
            "Vertex 0: \n",
            "\n",
            "Vertex 1: \n",
            "\n",
            "Vertex 2: \n",
            "\n",
            "Vertex 3: \n",
            "\n",
            "Vertex 4: \n",
            "\n"
          ]
        }
      ]
    },
    {
      "cell_type": "code",
      "source": [
        "graph.graph"
      ],
      "metadata": {
        "colab": {
          "base_uri": "https://localhost:8080/"
        },
        "id": "0AByRdpioQ4b",
        "outputId": "ec6e5516-1cec-481c-f58e-5405591a3f3f"
      },
      "execution_count": 17,
      "outputs": [
        {
          "output_type": "execute_result",
          "data": {
            "text/plain": [
              "[None, None, None, None, None]"
            ]
          },
          "metadata": {},
          "execution_count": 17
        }
      ]
    },
    {
      "cell_type": "code",
      "source": [
        "graph.add_edge(0, 1)\n",
        "graph.add_edge(0, 2)\n",
        "graph.add_edge(0, 3)\n",
        "graph.add_edge(1, 2)"
      ],
      "metadata": {
        "id": "h-IzbwygocqU"
      },
      "execution_count": 18,
      "outputs": []
    },
    {
      "cell_type": "code",
      "source": [
        "graph.graph"
      ],
      "metadata": {
        "colab": {
          "base_uri": "https://localhost:8080/"
        },
        "id": "JqhEH5Ynr263",
        "outputId": "4d417e3e-1ce0-434c-e3b2-71f95eb630ed"
      },
      "execution_count": 19,
      "outputs": [
        {
          "output_type": "execute_result",
          "data": {
            "text/plain": [
              "[Node(3), Node(2), Node(1), Node(0), None]"
            ]
          },
          "metadata": {},
          "execution_count": 19
        }
      ]
    },
    {
      "cell_type": "code",
      "source": [
        "graph.print_agraph()"
      ],
      "metadata": {
        "colab": {
          "base_uri": "https://localhost:8080/"
        },
        "id": "M_UTRtHQr62R",
        "outputId": "059a83cd-3a21-4364-e6c0-3a16050fe31a"
      },
      "execution_count": 20,
      "outputs": [
        {
          "output_type": "stream",
          "name": "stdout",
          "text": [
            "Vertex 0: -> 3 -> 2 -> 1 \n",
            "\n",
            "Vertex 1: -> 2 -> 0 \n",
            "\n",
            "Vertex 2: -> 1 -> 0 \n",
            "\n",
            "Vertex 3: -> 0 \n",
            "\n",
            "Vertex 4: \n",
            "\n"
          ]
        }
      ]
    },
    {
      "cell_type": "markdown",
      "source": [
        "# Depth First Search/Traversal"
      ],
      "metadata": {
        "id": "hNHMU7CGRrU0"
      }
    },
    {
      "cell_type": "code",
      "source": [
        "# DFS algorithm in Python\n",
        "\n",
        "\n",
        "# DFS algorithm\n",
        "def dfs(graph, start, visited=None):\n",
        "    if visited is None:\n",
        "        visited = []\n",
        "    visited.append(start)\n",
        "\n",
        "    for next in graph[start]:\n",
        "      if next not in visited:\n",
        "        dfs(graph, next, visited)\n",
        "    return visited\n",
        "\n",
        "\n",
        "graph = {'0': set(['1', '2']),\n",
        "         '1': set(['0', '3', '4']),\n",
        "         '2': set(['0']),\n",
        "         '3': set(['1']),\n",
        "         '4': set(['1', '2', '3'])}\n",
        "\n",
        "dfs(graph, '0')"
      ],
      "metadata": {
        "id": "A9Yh3e1gr8cl",
        "colab": {
          "base_uri": "https://localhost:8080/"
        },
        "outputId": "bb5e53eb-0be2-4456-d059-bd73fa00ac27"
      },
      "execution_count": 21,
      "outputs": [
        {
          "output_type": "execute_result",
          "data": {
            "text/plain": [
              "['0', '2', '1', '4', '3']"
            ]
          },
          "metadata": {},
          "execution_count": 21
        }
      ]
    },
    {
      "cell_type": "code",
      "source": [
        "class Node:\n",
        "  def __init__(self, data):\n",
        "    self.data = data\n",
        "    self.visited = False\n",
        "    self.adjacent = []\n",
        "\n",
        "  def __repr__(self):\n",
        "    return f\"Node({str(self.data)})\"\n",
        "\n",
        "def search(root):\n",
        "  if root is None:\n",
        "    return\n",
        "  print(root, end=', ')\n",
        "  root.visited = True\n",
        "  for n in root.adjacent:\n",
        "    if n.visited == False:\n",
        "      search(n)"
      ],
      "metadata": {
        "id": "MXbLrxxPu686"
      },
      "execution_count": 22,
      "outputs": []
    },
    {
      "cell_type": "code",
      "source": [
        "zero = Node(0)\n",
        "one = Node(1)\n",
        "two = Node(2)\n",
        "three = Node(3)\n",
        "four = Node(4)\n",
        "zero.adjacent = [one, two]\n",
        "one.adjacent = [zero, three]\n",
        "two.adjacent = [zero, four]"
      ],
      "metadata": {
        "id": "YoKYuR8fUk_3"
      },
      "execution_count": 23,
      "outputs": []
    },
    {
      "cell_type": "code",
      "source": [
        "search(zero)"
      ],
      "metadata": {
        "colab": {
          "base_uri": "https://localhost:8080/"
        },
        "id": "SqE-oMUhU-rC",
        "outputId": "4d4ec469-1f41-4cdc-cd8d-033d3f440e92"
      },
      "execution_count": 24,
      "outputs": [
        {
          "output_type": "stream",
          "name": "stdout",
          "text": [
            "Node(0), Node(1), Node(3), Node(2), Node(4), "
          ]
        }
      ]
    },
    {
      "cell_type": "markdown",
      "source": [
        "# Breadth First Search/Traversal"
      ],
      "metadata": {
        "id": "0d9_cra1Lwsg"
      }
    },
    {
      "cell_type": "code",
      "source": [
        "# BFS algorithm in Python\n",
        "\n",
        "\n",
        "import collections\n",
        "\n",
        "# BFS algorithm\n",
        "def bfs(graph, root):\n",
        "\n",
        "    visited, queue = set(), collections.deque([root])\n",
        "    visited.add(root)\n",
        "\n",
        "    while queue:\n",
        "\n",
        "        # Dequeue a vertex from queue\n",
        "        vertex = queue.popleft()\n",
        "        print(str(vertex) + \" \", end=\"\")\n",
        "\n",
        "        # If not visited, mark it as visited, and\n",
        "        # enqueue it\n",
        "        for neighbour in graph[vertex]:\n",
        "            if neighbour not in visited:\n",
        "                visited.add(neighbour)\n",
        "                queue.append(neighbour)\n"
      ],
      "metadata": {
        "id": "5tBMBWOKVApH"
      },
      "execution_count": 25,
      "outputs": []
    },
    {
      "cell_type": "code",
      "source": [
        "graph = {0: [1, 2], 1: [0, 2], 2: [0, 1, 3], 3: [1, 2]}\n",
        "print(\"Following is Breadth First Traversal: \")\n",
        "bfs(graph, 0)"
      ],
      "metadata": {
        "colab": {
          "base_uri": "https://localhost:8080/"
        },
        "id": "lnszCMaoLoFc",
        "outputId": "38257ac6-1056-4410-87ea-e7f8a96e18c5"
      },
      "execution_count": 26,
      "outputs": [
        {
          "output_type": "stream",
          "name": "stdout",
          "text": [
            "Following is Breadth First Traversal: \n",
            "0 1 2 3 "
          ]
        }
      ]
    },
    {
      "cell_type": "code",
      "source": [
        "class Node:\n",
        "  def __init__(self, data):\n",
        "    self.data = data\n",
        "    self.visited = False\n",
        "    self.adjacent = []\n",
        "\n",
        "  def __repr__(self):\n",
        "    return f\"Node({str(self.data)})\"\n",
        "\n",
        "def search(root):\n",
        "  queue = []\n",
        "  root.visited = True\n",
        "  # Add to the end of queue\n",
        "  queue.append(root) \n",
        "  while len(queue) != 0:\n",
        "    # Remove from the front of the queue\n",
        "    r = queue.pop(0)\n",
        "    print(r, end=', ')\n",
        "    for n in r.adjacent:\n",
        "      if n.visited == False:\n",
        "        n.visited = True\n",
        "        queue.append(n)"
      ],
      "metadata": {
        "id": "LLrIQOEXMgVh"
      },
      "execution_count": 27,
      "outputs": []
    },
    {
      "cell_type": "code",
      "source": [
        "zero = Node(0)\n",
        "one = Node(1)\n",
        "two = Node(2)\n",
        "three = Node(3)\n",
        "four = Node(4)\n",
        "zero.adjacent = [one, two]\n",
        "one.adjacent = [zero, three]\n",
        "two.adjacent = [zero, four]\n",
        "\n",
        "search(zero)"
      ],
      "metadata": {
        "colab": {
          "base_uri": "https://localhost:8080/"
        },
        "id": "rMD7FxN5OMV6",
        "outputId": "3bc294bf-3d18-4f23-c0a4-18f60950a033"
      },
      "execution_count": 28,
      "outputs": [
        {
          "output_type": "stream",
          "name": "stdout",
          "text": [
            "Node(0), Node(1), Node(2), Node(3), Node(4), "
          ]
        }
      ]
    },
    {
      "cell_type": "markdown",
      "source": [
        "# Route Between Nodes"
      ],
      "metadata": {
        "id": "rFdW9xo7__2T"
      }
    },
    {
      "cell_type": "code",
      "source": [
        "class Node:\n",
        "  def __init__(self, data):\n",
        "    self.data = data\n",
        "    self.adjacent = []\n",
        "    self.visited = False\n",
        "\n",
        "  def __repr__(self):\n",
        "    return f\"Node({self.data})\""
      ],
      "metadata": {
        "id": "VVe6zd3RQ8_c"
      },
      "execution_count": 29,
      "outputs": []
    },
    {
      "cell_type": "code",
      "source": [
        "def have_path(src: Node, dst: Node) -> bool:\n",
        "  queue = []\n",
        "  src.visited = True\n",
        "  queue.append(src)\n",
        "  while len(queue) != 0:\n",
        "    node = queue.pop(0)\n",
        "    for item in node.adjacent:\n",
        "      if item.visited == False:\n",
        "        if item.data == dst.data:\n",
        "          return True\n",
        "        else:\n",
        "          item.visited = True\n",
        "          queue.append(item)\n",
        "  return False"
      ],
      "metadata": {
        "id": "_ONdFvcfQVOo"
      },
      "execution_count": 30,
      "outputs": []
    },
    {
      "cell_type": "code",
      "source": [
        "zero = Node(0)\n",
        "one = Node(1)\n",
        "two = Node(2)\n",
        "three = Node(3)\n",
        "zero.adjacent.extend([two])\n",
        "one.adjacent.extend([zero])\n",
        "two.adjacent.extend([three])\n",
        "\n",
        "have_path(zero, three)"
      ],
      "metadata": {
        "colab": {
          "base_uri": "https://localhost:8080/"
        },
        "id": "nV1_UsqaRZv7",
        "outputId": "564f59b9-4b74-4d31-ace3-75350b4d1d76"
      },
      "execution_count": 31,
      "outputs": [
        {
          "output_type": "execute_result",
          "data": {
            "text/plain": [
              "True"
            ]
          },
          "metadata": {},
          "execution_count": 31
        }
      ]
    },
    {
      "cell_type": "code",
      "source": [
        "zero = Node(0)\n",
        "one = Node(1)\n",
        "two = Node(2)\n",
        "three = Node(3)\n",
        "zero.adjacent.extend([two])\n",
        "one.adjacent.extend([zero])\n",
        "two.adjacent.extend([three])\n",
        "\n",
        "have_path(zero, two)"
      ],
      "metadata": {
        "colab": {
          "base_uri": "https://localhost:8080/"
        },
        "id": "6khuXvieC4hB",
        "outputId": "3ae30d29-44de-4249-ec7e-f2fd37e0e635"
      },
      "execution_count": 32,
      "outputs": [
        {
          "output_type": "execute_result",
          "data": {
            "text/plain": [
              "True"
            ]
          },
          "metadata": {},
          "execution_count": 32
        }
      ]
    },
    {
      "cell_type": "code",
      "source": [
        "zero = Node(0)\n",
        "one = Node(1)\n",
        "two = Node(2)\n",
        "three = Node(3)\n",
        "zero.adjacent.extend([two])\n",
        "one.adjacent.extend([zero])\n",
        "two.adjacent.extend([three])\n",
        "\n",
        "have_path(one, three)"
      ],
      "metadata": {
        "colab": {
          "base_uri": "https://localhost:8080/"
        },
        "id": "IALirX4uDQoE",
        "outputId": "e9327c92-b5db-4861-a0f9-fd11ae39de55"
      },
      "execution_count": 33,
      "outputs": [
        {
          "output_type": "execute_result",
          "data": {
            "text/plain": [
              "True"
            ]
          },
          "metadata": {},
          "execution_count": 33
        }
      ]
    },
    {
      "cell_type": "code",
      "source": [
        "zero = Node(0)\n",
        "one = Node(1)\n",
        "two = Node(2)\n",
        "three = Node(3)\n",
        "zero.adjacent.extend([two])\n",
        "one.adjacent.extend([zero])\n",
        "two.adjacent.extend([three])\n",
        "\n",
        "have_path(zero, one)"
      ],
      "metadata": {
        "colab": {
          "base_uri": "https://localhost:8080/"
        },
        "id": "Tyk0kT-HDrfH",
        "outputId": "2f9c06c6-6d33-4739-b99e-3602116952cb"
      },
      "execution_count": 34,
      "outputs": [
        {
          "output_type": "execute_result",
          "data": {
            "text/plain": [
              "False"
            ]
          },
          "metadata": {},
          "execution_count": 34
        }
      ]
    },
    {
      "cell_type": "code",
      "source": [
        "zero = Node(0)\n",
        "one = Node(1)\n",
        "two = Node(2)\n",
        "three = Node(3)\n",
        "zero.adjacent.extend([two])\n",
        "one.adjacent.extend([zero])\n",
        "two.adjacent.extend([three])\n",
        "\n",
        "have_path(one, zero)"
      ],
      "metadata": {
        "colab": {
          "base_uri": "https://localhost:8080/"
        },
        "id": "nAs9c7jdDxDl",
        "outputId": "409e435b-9d9e-4f59-d47f-762b82b17797"
      },
      "execution_count": 35,
      "outputs": [
        {
          "output_type": "execute_result",
          "data": {
            "text/plain": [
              "True"
            ]
          },
          "metadata": {},
          "execution_count": 35
        }
      ]
    },
    {
      "cell_type": "markdown",
      "source": [
        "---"
      ],
      "metadata": {
        "id": "tI6QVUFDN-2h"
      }
    },
    {
      "cell_type": "markdown",
      "source": [
        "# **Greedy Algorithms**"
      ],
      "metadata": {
        "id": "DSlxhWxUOBJK"
      }
    },
    {
      "cell_type": "markdown",
      "source": [
        "# Dijkstra Algorithm"
      ],
      "metadata": {
        "id": "DSOmuPCM7Jdh"
      }
    },
    {
      "cell_type": "code",
      "source": [
        "import sys\n",
        " \n",
        "class Graph(object):\n",
        "    def __init__(self, nodes, init_graph):\n",
        "        self.nodes = nodes\n",
        "        self.graph = self.construct_graph(nodes, init_graph)\n",
        "        \n",
        "    def construct_graph(self, nodes, init_graph):\n",
        "        '''\n",
        "        This method makes sure that the graph is symmetrical. In other words, if there's a path from node A to B with a value V, there needs to be a path from node B to node A with a value V.\n",
        "        '''\n",
        "        graph = {}\n",
        "        for node in nodes:\n",
        "            graph[node] = {}\n",
        "        \n",
        "        graph.update(init_graph)\n",
        "        \n",
        "        for node, edges in graph.items():\n",
        "            for adjacent_node, value in edges.items():\n",
        "                if graph[adjacent_node].get(node, False) == False:\n",
        "                    graph[adjacent_node][node] = value\n",
        "                    \n",
        "        return graph\n",
        "    \n",
        "    def get_nodes(self):\n",
        "        \"Returns the nodes of the graph.\"\n",
        "        return self.nodes\n",
        "    \n",
        "    def get_outgoing_edges(self, node):\n",
        "        \"Returns the neighbors of a node.\"\n",
        "        connections = []\n",
        "        for out_node in self.nodes:\n",
        "            if self.graph[node].get(out_node, False) != False:\n",
        "                connections.append(out_node)\n",
        "        return connections\n",
        "    \n",
        "    def value(self, node1, node2):\n",
        "        \"Returns the value of an edge between two nodes.\"\n",
        "        return self.graph[node1][node2]"
      ],
      "metadata": {
        "id": "IsO8MmmuJr8N"
      },
      "execution_count": null,
      "outputs": []
    },
    {
      "cell_type": "code",
      "source": [
        "def dijkstra_algorithm(graph, start_node):\n",
        "    unvisited_nodes = list(graph.get_nodes())\n",
        " \n",
        "    # We'll use this dict to save the cost of visiting each node and update it as we move along the graph   \n",
        "    shortest_path = {}\n",
        " \n",
        "    # We'll use this dict to save the shortest known path to a node found so far\n",
        "    previous_nodes = {}\n",
        " \n",
        "    # We'll use max_value to initialize the \"infinity\" value of the unvisited nodes   \n",
        "    max_value = sys.maxsize\n",
        "    for node in unvisited_nodes:\n",
        "        shortest_path[node] = max_value\n",
        "    # However, we initialize the starting node's value with 0   \n",
        "    shortest_path[start_node] = 0\n",
        "    \n",
        "    # The algorithm executes until we visit all nodes\n",
        "    while unvisited_nodes:\n",
        "        # The code block below finds the node with the lowest score\n",
        "        current_min_node = None\n",
        "        for node in unvisited_nodes: # Iterate over the nodes\n",
        "            if current_min_node == None:\n",
        "                current_min_node = node\n",
        "            elif shortest_path[node] < shortest_path[current_min_node]:\n",
        "                current_min_node = node\n",
        "                \n",
        "        # The code block below retrieves the current node's neighbors and updates their distances\n",
        "        neighbors = graph.get_outgoing_edges(current_min_node)\n",
        "        for neighbor in neighbors:\n",
        "            tentative_value = shortest_path[current_min_node] + graph.value(current_min_node, neighbor)\n",
        "            if tentative_value < shortest_path[neighbor]:\n",
        "                shortest_path[neighbor] = tentative_value\n",
        "                # We also update the best path to the current node\n",
        "                previous_nodes[neighbor] = current_min_node\n",
        " \n",
        "        # After visiting its neighbors, we mark the node as \"visited\"\n",
        "        unvisited_nodes.remove(current_min_node)\n",
        "    \n",
        "    return previous_nodes, shortest_path"
      ],
      "metadata": {
        "id": "iD55dJGs78Gg"
      },
      "execution_count": null,
      "outputs": []
    },
    {
      "cell_type": "code",
      "source": [
        "def print_result(previous_nodes, shortest_path, start_node, target_node):\n",
        "    path = []\n",
        "    node = target_node\n",
        "    \n",
        "    while node != start_node:\n",
        "        path.append(node)\n",
        "        node = previous_nodes[node]\n",
        " \n",
        "    # Add the start node manually\n",
        "    path.append(start_node)\n",
        "    \n",
        "    print(\"We found the following best path with a value of {}.\".format(shortest_path[target_node]))\n",
        "    print(\" -> \".join(reversed(path)))"
      ],
      "metadata": {
        "id": "qDuJYQcH8Chd"
      },
      "execution_count": null,
      "outputs": []
    },
    {
      "cell_type": "code",
      "source": [
        "nodes = [\"Reykjavik\", \"Oslo\", \"Moscow\", \"London\", \"Rome\", \"Berlin\", \"Belgrade\", \"Athens\"]\n",
        " \n",
        "init_graph = {}\n",
        "for node in nodes:\n",
        "    init_graph[node] = {}\n",
        "    \n",
        "init_graph[\"Reykjavik\"][\"Oslo\"] = 5\n",
        "init_graph[\"Reykjavik\"][\"London\"] = 4\n",
        "init_graph[\"Oslo\"][\"Berlin\"] = 1\n",
        "init_graph[\"Oslo\"][\"Moscow\"] = 3\n",
        "init_graph[\"Moscow\"][\"Belgrade\"] = 5\n",
        "init_graph[\"Moscow\"][\"Athens\"] = 4\n",
        "init_graph[\"Athens\"][\"Belgrade\"] = 1\n",
        "init_graph[\"Rome\"][\"Berlin\"] = 2\n",
        "init_graph[\"Rome\"][\"Athens\"] = 2"
      ],
      "metadata": {
        "id": "kXAvPDtudbrL"
      },
      "execution_count": null,
      "outputs": []
    },
    {
      "cell_type": "code",
      "source": [
        "graph = Graph(nodes, init_graph)"
      ],
      "metadata": {
        "id": "QUL_Cear7Tpx"
      },
      "execution_count": null,
      "outputs": []
    },
    {
      "cell_type": "code",
      "source": [
        "previous_nodes, shortest_path = dijkstra_algorithm(graph=graph, start_node=\"Reykjavik\")"
      ],
      "metadata": {
        "id": "9-9XwoZI7ZTI"
      },
      "execution_count": null,
      "outputs": []
    },
    {
      "cell_type": "code",
      "source": [
        "print_result(previous_nodes, shortest_path, start_node=\"Reykjavik\", target_node=\"Belgrade\")"
      ],
      "metadata": {
        "colab": {
          "base_uri": "https://localhost:8080/"
        },
        "id": "awozI9X97hFx",
        "outputId": "4203b5d9-85b9-4143-c8e2-614cf4f66292"
      },
      "execution_count": null,
      "outputs": [
        {
          "output_type": "stream",
          "name": "stdout",
          "text": [
            "We found the following best path with a value of 11.\n",
            "Reykjavik -> Oslo -> Berlin -> Rome -> Athens -> Belgrade\n"
          ]
        }
      ]
    },
    {
      "cell_type": "markdown",
      "source": [
        "---"
      ],
      "metadata": {
        "id": "dGYHgztROI4v"
      }
    },
    {
      "cell_type": "markdown",
      "source": [
        "# **Dynamic Programming**"
      ],
      "metadata": {
        "id": "ftxaDPIqOKTG"
      }
    },
    {
      "cell_type": "markdown",
      "source": [
        "# Fibonacci (dynamic programming)"
      ],
      "metadata": {
        "id": "8PZMw3tiEJNY"
      }
    },
    {
      "cell_type": "code",
      "source": [
        "map = {0:0, 1:1}\n",
        "def fib(n):\n",
        "  if n not in map:\n",
        "    map[n] = fib(n-1) + fib(n-2)\n",
        "  return map[n]\n",
        "\n",
        "fib(5)"
      ],
      "metadata": {
        "id": "JAiFsS1q8MAh",
        "colab": {
          "base_uri": "https://localhost:8080/"
        },
        "outputId": "f76a8a87-7be9-47d1-b494-582236d9bd30"
      },
      "execution_count": 36,
      "outputs": [
        {
          "output_type": "execute_result",
          "data": {
            "text/plain": [
              "5"
            ]
          },
          "metadata": {},
          "execution_count": 36
        }
      ]
    },
    {
      "cell_type": "markdown",
      "source": [
        "# Recursive Staircase"
      ],
      "metadata": {
        "id": "O0-o-lCvYLST"
      }
    },
    {
      "cell_type": "code",
      "source": [
        "def countWays(n: int) -> int:\n",
        "  if n < 0:\n",
        "    return 0\n",
        "  elif n == 0:\n",
        "    return 1\n",
        "  else:\n",
        "    return countWays(n-1) + countWays(n-2) + countWays(n-3)"
      ],
      "metadata": {
        "id": "v-5pOrcOFVzh"
      },
      "execution_count": null,
      "outputs": []
    },
    {
      "cell_type": "code",
      "source": [
        "countWays(4)"
      ],
      "metadata": {
        "colab": {
          "base_uri": "https://localhost:8080/"
        },
        "id": "xNAhax53Yspe",
        "outputId": "7e371da1-5f6e-4809-b781-8432a779b3d7"
      },
      "execution_count": null,
      "outputs": [
        {
          "output_type": "execute_result",
          "data": {
            "text/plain": [
              "7"
            ]
          },
          "metadata": {},
          "execution_count": 7
        }
      ]
    },
    {
      "cell_type": "code",
      "source": [
        "countWays(3)"
      ],
      "metadata": {
        "colab": {
          "base_uri": "https://localhost:8080/"
        },
        "id": "g06AczWTg-eZ",
        "outputId": "7482410c-56d6-471f-bfe8-c8f62032bceb"
      },
      "execution_count": null,
      "outputs": [
        {
          "output_type": "execute_result",
          "data": {
            "text/plain": [
              "4"
            ]
          },
          "metadata": {},
          "execution_count": 10
        }
      ]
    },
    {
      "cell_type": "code",
      "source": [
        "ways = {0:1}\n",
        "def countWays_memo(n: int) -> int:\n",
        "  if n < 0:\n",
        "    return 0\n",
        "  if n not in ways:\n",
        "    ways[n] = countWays_memo(n-1) + countWays_memo(n-2) + countWays_memo(n-3)\n",
        "  return ways[n]"
      ],
      "metadata": {
        "id": "BDWShV5zY0ZF"
      },
      "execution_count": null,
      "outputs": []
    },
    {
      "cell_type": "code",
      "source": [
        "countWays_memo(4)"
      ],
      "metadata": {
        "colab": {
          "base_uri": "https://localhost:8080/"
        },
        "id": "DU_HgvEsg5y2",
        "outputId": "025df878-6616-4228-e04a-c4dbd4c9b947"
      },
      "execution_count": null,
      "outputs": [
        {
          "output_type": "execute_result",
          "data": {
            "text/plain": [
              "7"
            ]
          },
          "metadata": {},
          "execution_count": 9
        }
      ]
    },
    {
      "cell_type": "code",
      "source": [
        "countWays_memo(3)"
      ],
      "metadata": {
        "colab": {
          "base_uri": "https://localhost:8080/"
        },
        "id": "-nKvapk-g7P8",
        "outputId": "e3f2f197-e922-42db-86b7-cc457b08b513"
      },
      "execution_count": null,
      "outputs": [
        {
          "output_type": "execute_result",
          "data": {
            "text/plain": [
              "4"
            ]
          },
          "metadata": {},
          "execution_count": 11
        }
      ]
    },
    {
      "cell_type": "markdown",
      "source": [
        "# Recursive Multiply"
      ],
      "metadata": {
        "id": "5jh9IEI8kGTh"
      }
    },
    {
      "cell_type": "code",
      "source": [
        "def recursive_multiply(max, min):\n",
        "  if min == 0:\n",
        "    return 0\n",
        "  return max + recursive_multiply(max, min-1)"
      ],
      "metadata": {
        "id": "s5pc0J3thC3w"
      },
      "execution_count": null,
      "outputs": []
    },
    {
      "cell_type": "code",
      "source": [
        "recursive_multiply(5, 3)"
      ],
      "metadata": {
        "colab": {
          "base_uri": "https://localhost:8080/"
        },
        "id": "EVs6lR7pkxZq",
        "outputId": "ca5094a4-1079-4717-a0d3-0b3055f7b29f"
      },
      "execution_count": null,
      "outputs": [
        {
          "output_type": "execute_result",
          "data": {
            "text/plain": [
              "15"
            ]
          },
          "metadata": {},
          "execution_count": 13
        }
      ]
    },
    {
      "cell_type": "code",
      "source": [
        "recursive_multiply(16, 3)"
      ],
      "metadata": {
        "colab": {
          "base_uri": "https://localhost:8080/"
        },
        "id": "FCB_BVnLk2i1",
        "outputId": "ded5cf85-3caf-4279-f19f-4ee4f393ef4f"
      },
      "execution_count": null,
      "outputs": [
        {
          "output_type": "execute_result",
          "data": {
            "text/plain": [
              "48"
            ]
          },
          "metadata": {},
          "execution_count": 14
        }
      ]
    },
    {
      "cell_type": "code",
      "source": [
        "def minProduct(a: int, b: int):\n",
        "  bigger = b if a < b else a\n",
        "  smaller = a if a < b else b\n",
        "  return minProductHelper(smaller, bigger)\n",
        "\n",
        "def minProductHelper(smaller: int, bigger: int):\n",
        "  if smaller == 0:\n",
        "    return 0\n",
        "  elif smaller == 1:\n",
        "    return bigger\n",
        "\n",
        "  s = smaller >> 1 # Divide by 2 \n",
        "  halfProd = minProductHelper(s, bigger)\n",
        " \n",
        "  if smaller % 2 == 0:\n",
        "    return halfProd + halfProd\n",
        "  else:\n",
        "    return halfProd + halfProd + bigger"
      ],
      "metadata": {
        "id": "G1m1vxkak-VZ"
      },
      "execution_count": null,
      "outputs": []
    },
    {
      "cell_type": "code",
      "source": [
        "minProduct(5, 3)"
      ],
      "metadata": {
        "colab": {
          "base_uri": "https://localhost:8080/"
        },
        "id": "8mzVSYQApPt3",
        "outputId": "d99d9c23-018a-4e98-85a3-ebba2e2e8066"
      },
      "execution_count": null,
      "outputs": [
        {
          "output_type": "execute_result",
          "data": {
            "text/plain": [
              "15"
            ]
          },
          "metadata": {},
          "execution_count": 19
        }
      ]
    },
    {
      "cell_type": "code",
      "source": [
        "minProduct(5, 4)"
      ],
      "metadata": {
        "colab": {
          "base_uri": "https://localhost:8080/"
        },
        "id": "nOZnqhQ1qUmO",
        "outputId": "99ad499d-f2f6-4b23-adb0-0965adfad282"
      },
      "execution_count": null,
      "outputs": [
        {
          "output_type": "execute_result",
          "data": {
            "text/plain": [
              "20"
            ]
          },
          "metadata": {},
          "execution_count": 22
        }
      ]
    },
    {
      "cell_type": "code",
      "source": [
        ""
      ],
      "metadata": {
        "id": "XgOBq5hsqbmM"
      },
      "execution_count": null,
      "outputs": []
    },
    {
      "cell_type": "code",
      "source": [
        ""
      ],
      "metadata": {
        "id": "rfb7FFAIrKcq"
      },
      "execution_count": null,
      "outputs": []
    }
  ]
}